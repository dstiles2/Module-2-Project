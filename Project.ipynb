{
 "cells": [
  {
   "cell_type": "markdown",
   "metadata": {},
   "source": [
    "**Name:** Derek Stiles \n",
    "<br>\n",
    "**Project:** Module 2 - Northwind Database "
   ]
  },
  {
   "cell_type": "markdown",
   "metadata": {},
   "source": [
    "<img src='Northwind_ERD.png'>"
   ]
  },
  {
   "cell_type": "code",
   "execution_count": 1,
   "metadata": {},
   "outputs": [],
   "source": [
    "import pandas as pd\n",
    "import numpy as np\n",
    "import matplotlib.pyplot as plt\n",
    "import seaborn as sns\n",
    "import sqlite3\n",
    "import scipy.stats as stats\n",
    "import statsmodels.api as sm\n",
    "from statsmodels.formula.api import ols\n",
    "from sklearn.linear_model import LinearRegression\n",
    "from sklearn.preprocessing import MinMaxScaler\n",
    "from sklearn.linear_model import Lasso, Ridge, LinearRegression\n",
    "from sklearn.model_selection import train_test_split\n",
    "from sklearn.linear_model import LinearRegression\n",
    "from sklearn.model_selection import cross_val_score\n",
    "from sklearn.model_selection import KFold\n",
    "from sklearn import preprocessing\n",
    "from sklearn import linear_model as lm\n",
    "from statsmodels.graphics.factorplots import interaction_plot\n",
    "from statsmodels.stats.multicomp import pairwise_tukeyhsd\n",
    "from statsmodels.stats.multicomp import MultiComparison"
   ]
  },
  {
   "cell_type": "code",
   "execution_count": 2,
   "metadata": {},
   "outputs": [],
   "source": [
    "conn = sqlite3.connect('Northwind_small.sqlite')\n",
    "c = conn.cursor()"
   ]
  },
  {
   "cell_type": "markdown",
   "metadata": {},
   "source": [
    "# 1: Do discounts have a statistically significant impact on the number of products that customers order? If so, at what levels? "
   ]
  },
  {
   "cell_type": "markdown",
   "metadata": {},
   "source": [
    "## 1.1: Exploratory Data Analysis"
   ]
  },
  {
   "cell_type": "code",
   "execution_count": 3,
   "metadata": {},
   "outputs": [],
   "source": [
    "c.execute('''SELECT *\n",
    "            FROM OrderDetail\n",
    "            ORDER BY Discount DESC;''')\n",
    "\n",
    "orders = pd.DataFrame(c.fetchall())\n",
    "orders.columns = [i[0] for i in c.description]"
   ]
  },
  {
   "cell_type": "code",
   "execution_count": 4,
   "metadata": {},
   "outputs": [
    {
     "data": {
      "text/html": [
       "<div>\n",
       "<style scoped>\n",
       "    .dataframe tbody tr th:only-of-type {\n",
       "        vertical-align: middle;\n",
       "    }\n",
       "\n",
       "    .dataframe tbody tr th {\n",
       "        vertical-align: top;\n",
       "    }\n",
       "\n",
       "    .dataframe thead th {\n",
       "        text-align: right;\n",
       "    }\n",
       "</style>\n",
       "<table border=\"1\" class=\"dataframe\">\n",
       "  <thead>\n",
       "    <tr style=\"text-align: right;\">\n",
       "      <th></th>\n",
       "      <th>Id</th>\n",
       "      <th>OrderId</th>\n",
       "      <th>ProductId</th>\n",
       "      <th>UnitPrice</th>\n",
       "      <th>Quantity</th>\n",
       "      <th>Discount</th>\n",
       "    </tr>\n",
       "  </thead>\n",
       "  <tbody>\n",
       "    <tr>\n",
       "      <th>0</th>\n",
       "      <td>10260/41</td>\n",
       "      <td>10260</td>\n",
       "      <td>41</td>\n",
       "      <td>7.7</td>\n",
       "      <td>16</td>\n",
       "      <td>0.25</td>\n",
       "    </tr>\n",
       "    <tr>\n",
       "      <th>1</th>\n",
       "      <td>10260/62</td>\n",
       "      <td>10260</td>\n",
       "      <td>62</td>\n",
       "      <td>39.4</td>\n",
       "      <td>15</td>\n",
       "      <td>0.25</td>\n",
       "    </tr>\n",
       "    <tr>\n",
       "      <th>2</th>\n",
       "      <td>10260/70</td>\n",
       "      <td>10260</td>\n",
       "      <td>70</td>\n",
       "      <td>12.0</td>\n",
       "      <td>21</td>\n",
       "      <td>0.25</td>\n",
       "    </tr>\n",
       "    <tr>\n",
       "      <th>3</th>\n",
       "      <td>10263/16</td>\n",
       "      <td>10263</td>\n",
       "      <td>16</td>\n",
       "      <td>13.9</td>\n",
       "      <td>60</td>\n",
       "      <td>0.25</td>\n",
       "    </tr>\n",
       "    <tr>\n",
       "      <th>4</th>\n",
       "      <td>10263/30</td>\n",
       "      <td>10263</td>\n",
       "      <td>30</td>\n",
       "      <td>20.7</td>\n",
       "      <td>60</td>\n",
       "      <td>0.25</td>\n",
       "    </tr>\n",
       "  </tbody>\n",
       "</table>\n",
       "</div>"
      ],
      "text/plain": [
       "         Id  OrderId  ProductId  UnitPrice  Quantity  Discount\n",
       "0  10260/41    10260         41        7.7        16      0.25\n",
       "1  10260/62    10260         62       39.4        15      0.25\n",
       "2  10260/70    10260         70       12.0        21      0.25\n",
       "3  10263/16    10263         16       13.9        60      0.25\n",
       "4  10263/30    10263         30       20.7        60      0.25"
      ]
     },
     "execution_count": 4,
     "metadata": {},
     "output_type": "execute_result"
    }
   ],
   "source": [
    "orders.head()"
   ]
  },
  {
   "cell_type": "code",
   "execution_count": 5,
   "metadata": {},
   "outputs": [
    {
     "name": "stdout",
     "output_type": "stream",
     "text": [
      "<class 'pandas.core.frame.DataFrame'>\n",
      "RangeIndex: 2155 entries, 0 to 2154\n",
      "Data columns (total 6 columns):\n",
      "Id           2155 non-null object\n",
      "OrderId      2155 non-null int64\n",
      "ProductId    2155 non-null int64\n",
      "UnitPrice    2155 non-null float64\n",
      "Quantity     2155 non-null int64\n",
      "Discount     2155 non-null float64\n",
      "dtypes: float64(2), int64(3), object(1)\n",
      "memory usage: 101.1+ KB\n"
     ]
    }
   ],
   "source": [
    "orders.info()"
   ]
  },
  {
   "cell_type": "code",
   "execution_count": 6,
   "metadata": {},
   "outputs": [],
   "source": [
    "orders['OrderId'] = orders['OrderId'].astype(object)"
   ]
  },
  {
   "cell_type": "markdown",
   "metadata": {},
   "source": [
    "Let's take a look at what discount values were offered on the orders."
   ]
  },
  {
   "cell_type": "code",
   "execution_count": 7,
   "metadata": {
    "scrolled": true
   },
   "outputs": [
    {
     "data": {
      "text/plain": [
       "array([0.25, 0.2 , 0.15, 0.1 , 0.06, 0.05, 0.04, 0.03, 0.02, 0.01, 0.  ])"
      ]
     },
     "execution_count": 7,
     "metadata": {},
     "output_type": "execute_result"
    }
   ],
   "source": [
    "orders['Discount'].unique()"
   ]
  },
  {
   "cell_type": "markdown",
   "metadata": {},
   "source": [
    "We have a range of 0 (no discount) to 25% off. Together, we have 11 different discounts if we include 0. "
   ]
  },
  {
   "cell_type": "code",
   "execution_count": 8,
   "metadata": {},
   "outputs": [
    {
     "data": {
      "text/plain": [
       "0.00    1317\n",
       "0.05     185\n",
       "0.10     173\n",
       "0.20     161\n",
       "0.15     157\n",
       "0.25     154\n",
       "0.03       3\n",
       "0.02       2\n",
       "0.01       1\n",
       "0.06       1\n",
       "0.04       1\n",
       "Name: Discount, dtype: int64"
      ]
     },
     "execution_count": 8,
     "metadata": {},
     "output_type": "execute_result"
    }
   ],
   "source": [
    "orders['Discount'].value_counts()"
   ]
  },
  {
   "cell_type": "markdown",
   "metadata": {},
   "source": [
    "Since a handful of the discounts (1%, 2%, 3%, 4%, 6%) were only used on rare occasions, it will make for easier analysis to treat these as 5% discounts. "
   ]
  },
  {
   "cell_type": "code",
   "execution_count": 9,
   "metadata": {},
   "outputs": [
    {
     "data": {
      "text/plain": [
       "0.00    1317\n",
       "0.05     193\n",
       "0.10     173\n",
       "0.20     161\n",
       "0.15     157\n",
       "0.25     154\n",
       "Name: Discount, dtype: int64"
      ]
     },
     "execution_count": 9,
     "metadata": {},
     "output_type": "execute_result"
    }
   ],
   "source": [
    "orders['Discount'] = np.where(orders['Discount'].between(.01,.06), 0.05, orders['Discount'])\n",
    "orders['Discount'].value_counts()"
   ]
  },
  {
   "cell_type": "markdown",
   "metadata": {},
   "source": [
    "Now that we have the discounts cleaned into 6 distinct levels, we can perform some exploratory analysis prior to forming our hypotheses. "
   ]
  },
  {
   "cell_type": "code",
   "execution_count": 10,
   "metadata": {},
   "outputs": [
    {
     "data": {
      "text/plain": [
       "<matplotlib.axes._subplots.AxesSubplot at 0x1c2229f668>"
      ]
     },
     "execution_count": 10,
     "metadata": {},
     "output_type": "execute_result"
    },
    {
     "data": {
      "image/png": "[encoded data removed]",
      "text/plain": [
       "<Figure size 432x288 with 1 Axes>"
      ]
     },
     "metadata": {
      "needs_background": "light"
     },
     "output_type": "display_data"
    }
   ],
   "source": [
    "fig, ax = plt.subplots()\n",
    "orders['Discount'].value_counts().plot(ax=ax, kind='bar')"
   ]
  },
  {
   "cell_type": "markdown",
   "metadata": {},
   "source": [
    "As we can see, most orders don't have any discounts attached to them. Otherwise, when a discount is applied, each of our discount levels are used at the same rate. "
   ]
  },
  {
   "cell_type": "code",
   "execution_count": 11,
   "metadata": {},
   "outputs": [
    {
     "data": {
      "text/html": [
       "<div>\n",
       "<style scoped>\n",
       "    .dataframe tbody tr th:only-of-type {\n",
       "        vertical-align: middle;\n",
       "    }\n",
       "\n",
       "    .dataframe tbody tr th {\n",
       "        vertical-align: top;\n",
       "    }\n",
       "\n",
       "    .dataframe thead th {\n",
       "        text-align: right;\n",
       "    }\n",
       "</style>\n",
       "<table border=\"1\" class=\"dataframe\">\n",
       "  <thead>\n",
       "    <tr style=\"text-align: right;\">\n",
       "      <th></th>\n",
       "      <th>ProductId</th>\n",
       "      <th>UnitPrice</th>\n",
       "      <th>Quantity</th>\n",
       "      <th>Discount</th>\n",
       "    </tr>\n",
       "  </thead>\n",
       "  <tbody>\n",
       "    <tr>\n",
       "      <th>count</th>\n",
       "      <td>2155.000000</td>\n",
       "      <td>2155.000000</td>\n",
       "      <td>2155.000000</td>\n",
       "      <td>2155.000000</td>\n",
       "    </tr>\n",
       "    <tr>\n",
       "      <th>mean</th>\n",
       "      <td>40.793039</td>\n",
       "      <td>26.218520</td>\n",
       "      <td>23.812993</td>\n",
       "      <td>0.056241</td>\n",
       "    </tr>\n",
       "    <tr>\n",
       "      <th>std</th>\n",
       "      <td>22.159019</td>\n",
       "      <td>29.827418</td>\n",
       "      <td>19.022047</td>\n",
       "      <td>0.083431</td>\n",
       "    </tr>\n",
       "    <tr>\n",
       "      <th>min</th>\n",
       "      <td>1.000000</td>\n",
       "      <td>2.000000</td>\n",
       "      <td>1.000000</td>\n",
       "      <td>0.000000</td>\n",
       "    </tr>\n",
       "    <tr>\n",
       "      <th>25%</th>\n",
       "      <td>22.000000</td>\n",
       "      <td>12.000000</td>\n",
       "      <td>10.000000</td>\n",
       "      <td>0.000000</td>\n",
       "    </tr>\n",
       "    <tr>\n",
       "      <th>50%</th>\n",
       "      <td>41.000000</td>\n",
       "      <td>18.400000</td>\n",
       "      <td>20.000000</td>\n",
       "      <td>0.000000</td>\n",
       "    </tr>\n",
       "    <tr>\n",
       "      <th>75%</th>\n",
       "      <td>60.000000</td>\n",
       "      <td>32.000000</td>\n",
       "      <td>30.000000</td>\n",
       "      <td>0.100000</td>\n",
       "    </tr>\n",
       "    <tr>\n",
       "      <th>max</th>\n",
       "      <td>77.000000</td>\n",
       "      <td>263.500000</td>\n",
       "      <td>130.000000</td>\n",
       "      <td>0.250000</td>\n",
       "    </tr>\n",
       "  </tbody>\n",
       "</table>\n",
       "</div>"
      ],
      "text/plain": [
       "         ProductId    UnitPrice     Quantity     Discount\n",
       "count  2155.000000  2155.000000  2155.000000  2155.000000\n",
       "mean     40.793039    26.218520    23.812993     0.056241\n",
       "std      22.159019    29.827418    19.022047     0.083431\n",
       "min       1.000000     2.000000     1.000000     0.000000\n",
       "25%      22.000000    12.000000    10.000000     0.000000\n",
       "50%      41.000000    18.400000    20.000000     0.000000\n",
       "75%      60.000000    32.000000    30.000000     0.100000\n",
       "max      77.000000   263.500000   130.000000     0.250000"
      ]
     },
     "execution_count": 11,
     "metadata": {},
     "output_type": "execute_result"
    }
   ],
   "source": [
    "orders.describe()"
   ]
  },
  {
   "cell_type": "markdown",
   "metadata": {},
   "source": [
    "The average **quantity** of an order is 23.8 items, while the median is 20, which tells us that the distribution is positively skewed. In addition, the average **discount** provided on an order is just about 5%, which is what we'd expect after visualizing discount frequency above."
   ]
  },
  {
   "cell_type": "code",
   "execution_count": 12,
   "metadata": {},
   "outputs": [
    {
     "name": "stderr",
     "output_type": "stream",
     "text": [
      "/Users/Derek/anaconda3/lib/python3.7/site-packages/scipy/stats/stats.py:1713: FutureWarning: Using a non-tuple sequence for multidimensional indexing is deprecated; use `arr[tuple(seq)]` instead of `arr[seq]`. In the future this will be interpreted as an array index, `arr[np.array(seq)]`, which will result either in an error or a different result.\n",
      "  return np.add.reduce(sorted[indexer] * weights, axis=axis) / sumval\n"
     ]
    },
    {
     "data": {
      "text/plain": [
       "Text(0.5,0,'Quantity Ordered')"
      ]
     },
     "execution_count": 12,
     "metadata": {},
     "output_type": "execute_result"
    },
    {
     "data": {
      "image/png": "[encoded data removed]",
      "text/plain": [
       "<Figure size 1440x720 with 1 Axes>"
      ]
     },
     "metadata": {},
     "output_type": "display_data"
    }
   ],
   "source": [
    "from scipy.stats import norm\n",
    "\n",
    "sns.set_style('white')\n",
    "\n",
    "plt.figure(figsize=(20, 10))\n",
    "sns.distplot(orders['Quantity'], fit=norm, kde=False)\n",
    "plt.title('Distribution of Quantity', fontsize=16)\n",
    "plt.xlabel('Quantity Ordered', fontsize=16)"
   ]
  },
  {
   "cell_type": "markdown",
   "metadata": {},
   "source": [
    "Our distribution chart reaffirms our previous belief: the quantity distribution is heavily skewed. Although the data doesn't fit a normal distribution, we can rely on our knowledge of the central limit theorem, which states that the averages of samples will form a normal distribution. \n",
    "\n",
    "**(Use SciPy's normaltest when taking samples to provide quantitative measure of normality)** "
   ]
  },
  {
   "cell_type": "markdown",
   "metadata": {},
   "source": [
    "Before jumping into any hypothesis testing, let's visualize the range of quantity per each discount via box plots."
   ]
  },
  {
   "cell_type": "code",
   "execution_count": 13,
   "metadata": {},
   "outputs": [],
   "source": [
    "boxplot_purposes = orders.copy()\n",
    "boxplot_purposes['Discount'] = boxplot_purposes['Discount'].astype(object)"
   ]
  },
  {
   "cell_type": "code",
   "execution_count": 14,
   "metadata": {},
   "outputs": [
    {
     "data": {
      "text/plain": [
       "Text(0.5,0,'Quantity Ordered')"
      ]
     },
     "execution_count": 14,
     "metadata": {},
     "output_type": "execute_result"
    },
    {
     "data": {
      "image/png": "[encoded data removed]",
      "text/plain": [
       "<Figure size 720x1080 with 1 Axes>"
      ]
     },
     "metadata": {},
     "output_type": "display_data"
    }
   ],
   "source": [
    "plt.figure(figsize=(10, 15))\n",
    "sns.boxplot(x='Discount', y='Quantity', data=boxplot_purposes)\n",
    "plt.title('Order Quantity by Discount Level', fontsize=16)\n",
    "plt.xlabel('Quantity Ordered', fontsize=16)"
   ]
  },
  {
   "cell_type": "code",
   "execution_count": 15,
   "metadata": {},
   "outputs": [
    {
     "data": {
      "text/html": [
       "<div>\n",
       "<style scoped>\n",
       "    .dataframe tbody tr th:only-of-type {\n",
       "        vertical-align: middle;\n",
       "    }\n",
       "\n",
       "    .dataframe tbody tr th {\n",
       "        vertical-align: top;\n",
       "    }\n",
       "\n",
       "    .dataframe thead th {\n",
       "        text-align: right;\n",
       "    }\n",
       "</style>\n",
       "<table border=\"1\" class=\"dataframe\">\n",
       "  <thead>\n",
       "    <tr style=\"text-align: right;\">\n",
       "      <th></th>\n",
       "      <th>Discount</th>\n",
       "      <th>Quantity</th>\n",
       "    </tr>\n",
       "  </thead>\n",
       "  <tbody>\n",
       "    <tr>\n",
       "      <th>0</th>\n",
       "      <td>0.00</td>\n",
       "      <td>21.715262</td>\n",
       "    </tr>\n",
       "    <tr>\n",
       "      <th>1</th>\n",
       "      <td>0.05</td>\n",
       "      <td>26.922280</td>\n",
       "    </tr>\n",
       "    <tr>\n",
       "      <th>2</th>\n",
       "      <td>0.10</td>\n",
       "      <td>25.236994</td>\n",
       "    </tr>\n",
       "    <tr>\n",
       "      <th>3</th>\n",
       "      <td>0.15</td>\n",
       "      <td>28.382166</td>\n",
       "    </tr>\n",
       "    <tr>\n",
       "      <th>4</th>\n",
       "      <td>0.20</td>\n",
       "      <td>27.024845</td>\n",
       "    </tr>\n",
       "    <tr>\n",
       "      <th>5</th>\n",
       "      <td>0.25</td>\n",
       "      <td>28.240260</td>\n",
       "    </tr>\n",
       "  </tbody>\n",
       "</table>\n",
       "</div>"
      ],
      "text/plain": [
       "   Discount   Quantity\n",
       "0      0.00  21.715262\n",
       "1      0.05  26.922280\n",
       "2      0.10  25.236994\n",
       "3      0.15  28.382166\n",
       "4      0.20  27.024845\n",
       "5      0.25  28.240260"
      ]
     },
     "execution_count": 15,
     "metadata": {},
     "output_type": "execute_result"
    }
   ],
   "source": [
    "orders.groupby('Discount', as_index=False)['Quantity'].mean()"
   ]
  },
  {
   "cell_type": "markdown",
   "metadata": {},
   "source": [
    "A visual inspection of the boxplot shows that there is an increase in order quantity when discounts are applied. In addition, the chart above shows that order quantity increase from approximately 22 to approximately 25 when at least a 5% discount is put into place. **Based on this information, we can say it's worth inspecting as to whether or not there is a statistically significant difference between quantities of discounted orders and quantities of non-discounted orders.**\n",
    "\n",
    "However, we'll need to perform some hypothesis testing to provide quanitative information to back up this finding and understand discount level affects quantity the most."
   ]
  },
  {
   "cell_type": "markdown",
   "metadata": {},
   "source": [
    "## 1.2: Hypotheses"
   ]
  },
  {
   "cell_type": "markdown",
   "metadata": {},
   "source": [
    "We are looking to test whether or not discounts affect customer behavior - **do discounts increase order sizes? If so, at what levels?**\n",
    "\n",
    "To answer the question of whether or not discounts play a statistically significant role in increasing order quantity, we'll set up a null and alternative hypothesis. \n",
    "\n",
    "The *null hypothesis (denoted as $H_O$)* basically says there is no relationship between A and B. This is the hypothesis we are aiming to reject. The *alternative hypothesis (denoted as $H_A$)*, on the other hand, says there is some sort of relationship between A and B. \n",
    "\n",
    "**$H_O$: The average quantity ordered by customers who do receive a discount is no different from that of customers who do not receive a discount.**\n",
    "\n",
    "**$H_A$: The average quantity ordered by customers who receive a discount is greater than 21.72 (the average quantity ordered by customers who did not receive a discount).**"
   ]
  },
  {
   "cell_type": "markdown",
   "metadata": {},
   "source": [
    "In order to reject (or fail to reject) our null hypothesis, we'll perform a two-sample t-test\n",
    "\n",
    "A two-sample t-test is a statistical test that is used to determine whether the difference between two groups is statistically significant or simply due to chance. To perform this, we'll need a control group and an experimental group. **The control group will be all customers orders that did NOT receive a discount and the experimental group will be all customer orders that DID receive a discount.** This will allow us to answer the first question that Northwind is trying to figure out: do discounts increase order quantities? "
   ]
  },
  {
   "cell_type": "code",
   "execution_count": 16,
   "metadata": {},
   "outputs": [],
   "source": [
    "control = orders[orders['Discount'] ==0]\n",
    "control = control['Quantity']\n",
    "exp = orders[orders['Discount'] != 0]\n",
    "exp = exp['Quantity']"
   ]
  },
  {
   "cell_type": "markdown",
   "metadata": {},
   "source": [
    "## 1.3: T-Test Assumptions"
   ]
  },
  {
   "cell_type": "markdown",
   "metadata": {},
   "source": [
    "When performing a t-test, data must meet certain assumptions, otherwise the t-test may lead to misleading results. I will outline the three basic assumptions below and how the data will meet each of them. \n",
    "\n",
    "- Normal\n",
    "\n",
    "- Independent\n",
    "\n",
    "- Random\n"
   ]
  },
  {
   "cell_type": "code",
   "execution_count": 17,
   "metadata": {},
   "outputs": [],
   "source": [
    "def get_sample(data, n):\n",
    "    sample = []\n",
    "    while len(sample) != n:\n",
    "       x = np.random.choice(data)\n",
    "       sample.append(x)\n",
    "    \n",
    "    return sample"
   ]
  },
  {
   "cell_type": "code",
   "execution_count": 18,
   "metadata": {},
   "outputs": [],
   "source": [
    "def get_sample_mean(sample):\n",
    "    return sum(sample) / len(sample)"
   ]
  },
  {
   "cell_type": "code",
   "execution_count": 19,
   "metadata": {},
   "outputs": [],
   "source": [
    "def create_sample_distribution(data, dist_size=1000, n=500):\n",
    "    sample_dist = []\n",
    "    while len(sample_dist) != dist_size:\n",
    "        sample = get_sample(data, n)\n",
    "        sample_mean = get_sample_mean(sample)\n",
    "        sample_dist.append(sample_mean)\n",
    "    \n",
    "    return sample_dist"
   ]
  },
  {
   "cell_type": "code",
   "execution_count": 20,
   "metadata": {},
   "outputs": [],
   "source": [
    "control_sample = create_sample_distribution(control)\n",
    "exp_sample = create_sample_distribution(exp)"
   ]
  },
  {
   "cell_type": "code",
   "execution_count": 21,
   "metadata": {},
   "outputs": [
    {
     "name": "stderr",
     "output_type": "stream",
     "text": [
      "/Users/Derek/anaconda3/lib/python3.7/site-packages/scipy/stats/stats.py:1713: FutureWarning: Using a non-tuple sequence for multidimensional indexing is deprecated; use `arr[tuple(seq)]` instead of `arr[seq]`. In the future this will be interpreted as an array index, `arr[np.array(seq)]`, which will result either in an error or a different result.\n",
      "  return np.add.reduce(sorted[indexer] * weights, axis=axis) / sumval\n"
     ]
    },
    {
     "data": {
      "text/plain": [
       "Text(0.5,0,'Quantity of Product Ordered')"
      ]
     },
     "execution_count": 21,
     "metadata": {},
     "output_type": "execute_result"
    },
    {
     "data": {
      "image/png": "[encoded data removed]",
      "text/plain": [
       "<Figure size 1440x720 with 1 Axes>"
      ]
     },
     "metadata": {},
     "output_type": "display_data"
    }
   ],
   "source": [
    "plt.figure(figsize=(20,10))\n",
    "sns.distplot(control_sample, color='blue')\n",
    "sns.distplot(exp_sample, color='orange')\n",
    "sns.set(font_scale=2)\n",
    "plt.title('Sampling distribution of Sample Mean')\n",
    "plt.xlabel('Quantity of Product Ordered')"
   ]
  },
  {
   "cell_type": "code",
   "execution_count": 22,
   "metadata": {},
   "outputs": [],
   "source": [
    "control_sample = np.array(control_sample)\n",
    "exp_sample = np.array(exp_sample)"
   ]
  },
  {
   "cell_type": "markdown",
   "metadata": {},
   "source": [
    "## 1.5: Two Sample T-Test"
   ]
  },
  {
   "cell_type": "code",
   "execution_count": 23,
   "metadata": {},
   "outputs": [
    {
     "data": {
      "text/plain": [
       "138.26860094707473"
      ]
     },
     "execution_count": 23,
     "metadata": {},
     "output_type": "execute_result"
    }
   ],
   "source": [
    "def welch_t(a, b):\n",
    "    \n",
    "    \"\"\" Calculate Welch's t statistic for two samples. \"\"\"\n",
    "\n",
    "    numerator = a.mean() - b.mean()\n",
    "        \n",
    "    denominator = np.sqrt(a.var(ddof=1)/a.size + b.var(ddof=1)/b.size)\n",
    "    \n",
    "    return numerator/denominator\n",
    "\n",
    "welch_t(exp_sample,control_sample)"
   ]
  },
  {
   "cell_type": "code",
   "execution_count": 24,
   "metadata": {},
   "outputs": [
    {
     "data": {
      "text/plain": [
       "Ttest_indResult(statistic=138.26860094707473, pvalue=0.0)"
      ]
     },
     "execution_count": 24,
     "metadata": {},
     "output_type": "execute_result"
    }
   ],
   "source": [
    "stats.ttest_ind(exp_sample, control_sample, axis=0, equal_var=False)"
   ]
  },
  {
   "cell_type": "code",
   "execution_count": 25,
   "metadata": {},
   "outputs": [],
   "source": [
    "def Cohen_d(group1, group2):\n",
    "\n",
    "    diff = group1.mean() - group2.mean()\n",
    "\n",
    "    n1, n2 = len(group1), len(group2)\n",
    "    var1 = group1.var()\n",
    "    var2 = group2.var()\n",
    "\n",
    "    # Calculate the pooled threshold as shown earlier\n",
    "    pooled_var = (n1 * var1 + n2 * var2) / (n1 + n2)\n",
    "    \n",
    "    # Calculate Cohen's d statistic\n",
    "    d = diff / np.sqrt(pooled_var)\n",
    "    \n",
    "    return d"
   ]
  },
  {
   "cell_type": "code",
   "execution_count": 26,
   "metadata": {},
   "outputs": [
    {
     "data": {
      "text/plain": [
       "6.1866539181067175"
      ]
     },
     "execution_count": 26,
     "metadata": {},
     "output_type": "execute_result"
    }
   ],
   "source": [
    "Cohen_d(exp_sample, control_sample)"
   ]
  },
  {
   "cell_type": "markdown",
   "metadata": {},
   "source": [
    "## 1.6: ANOVA Testing"
   ]
  },
  {
   "cell_type": "code",
   "execution_count": 27,
   "metadata": {
    "scrolled": true
   },
   "outputs": [
    {
     "data": {
      "text/html": [
       "<div>\n",
       "<style scoped>\n",
       "    .dataframe tbody tr th:only-of-type {\n",
       "        vertical-align: middle;\n",
       "    }\n",
       "\n",
       "    .dataframe tbody tr th {\n",
       "        vertical-align: top;\n",
       "    }\n",
       "\n",
       "    .dataframe thead th {\n",
       "        text-align: right;\n",
       "    }\n",
       "</style>\n",
       "<table border=\"1\" class=\"dataframe\">\n",
       "  <thead>\n",
       "    <tr style=\"text-align: right;\">\n",
       "      <th></th>\n",
       "      <th>count</th>\n",
       "      <th>mean</th>\n",
       "      <th>std</th>\n",
       "      <th>min</th>\n",
       "      <th>25%</th>\n",
       "      <th>50%</th>\n",
       "      <th>75%</th>\n",
       "      <th>max</th>\n",
       "    </tr>\n",
       "    <tr>\n",
       "      <th>Discount</th>\n",
       "      <th></th>\n",
       "      <th></th>\n",
       "      <th></th>\n",
       "      <th></th>\n",
       "      <th></th>\n",
       "      <th></th>\n",
       "      <th></th>\n",
       "      <th></th>\n",
       "    </tr>\n",
       "  </thead>\n",
       "  <tbody>\n",
       "    <tr>\n",
       "      <th>0.00</th>\n",
       "      <td>1317.0</td>\n",
       "      <td>21.715262</td>\n",
       "      <td>17.507493</td>\n",
       "      <td>1.0</td>\n",
       "      <td>10.0</td>\n",
       "      <td>18.0</td>\n",
       "      <td>30.0</td>\n",
       "      <td>130.0</td>\n",
       "    </tr>\n",
       "    <tr>\n",
       "      <th>0.05</th>\n",
       "      <td>193.0</td>\n",
       "      <td>26.922280</td>\n",
       "      <td>22.345981</td>\n",
       "      <td>1.0</td>\n",
       "      <td>12.0</td>\n",
       "      <td>20.0</td>\n",
       "      <td>35.0</td>\n",
       "      <td>120.0</td>\n",
       "    </tr>\n",
       "    <tr>\n",
       "      <th>0.10</th>\n",
       "      <td>173.0</td>\n",
       "      <td>25.236994</td>\n",
       "      <td>21.186503</td>\n",
       "      <td>2.0</td>\n",
       "      <td>10.0</td>\n",
       "      <td>20.0</td>\n",
       "      <td>30.0</td>\n",
       "      <td>130.0</td>\n",
       "    </tr>\n",
       "    <tr>\n",
       "      <th>0.15</th>\n",
       "      <td>157.0</td>\n",
       "      <td>28.382166</td>\n",
       "      <td>20.923099</td>\n",
       "      <td>2.0</td>\n",
       "      <td>15.0</td>\n",
       "      <td>21.0</td>\n",
       "      <td>40.0</td>\n",
       "      <td>100.0</td>\n",
       "    </tr>\n",
       "    <tr>\n",
       "      <th>0.20</th>\n",
       "      <td>161.0</td>\n",
       "      <td>27.024845</td>\n",
       "      <td>18.832801</td>\n",
       "      <td>2.0</td>\n",
       "      <td>12.0</td>\n",
       "      <td>21.0</td>\n",
       "      <td>40.0</td>\n",
       "      <td>100.0</td>\n",
       "    </tr>\n",
       "    <tr>\n",
       "      <th>0.25</th>\n",
       "      <td>154.0</td>\n",
       "      <td>28.240260</td>\n",
       "      <td>20.120570</td>\n",
       "      <td>2.0</td>\n",
       "      <td>15.0</td>\n",
       "      <td>25.0</td>\n",
       "      <td>36.0</td>\n",
       "      <td>120.0</td>\n",
       "    </tr>\n",
       "  </tbody>\n",
       "</table>\n",
       "</div>"
      ],
      "text/plain": [
       "           count       mean        std  min   25%   50%   75%    max\n",
       "Discount                                                            \n",
       "0.00      1317.0  21.715262  17.507493  1.0  10.0  18.0  30.0  130.0\n",
       "0.05       193.0  26.922280  22.345981  1.0  12.0  20.0  35.0  120.0\n",
       "0.10       173.0  25.236994  21.186503  2.0  10.0  20.0  30.0  130.0\n",
       "0.15       157.0  28.382166  20.923099  2.0  15.0  21.0  40.0  100.0\n",
       "0.20       161.0  27.024845  18.832801  2.0  12.0  21.0  40.0  100.0\n",
       "0.25       154.0  28.240260  20.120570  2.0  15.0  25.0  36.0  120.0"
      ]
     },
     "execution_count": 27,
     "metadata": {},
     "output_type": "execute_result"
    }
   ],
   "source": [
    "orders['Quantity'].groupby(orders['Discount']).describe()"
   ]
  },
  {
   "cell_type": "code",
   "execution_count": 28,
   "metadata": {},
   "outputs": [
    {
     "name": "stdout",
     "output_type": "stream",
     "text": [
      "                 sum_sq      df          F        PR(>F)\n",
      "Discount   12685.217865     1.0  35.621182  2.795255e-09\n",
      "Residual  766714.418330  2153.0        NaN           NaN\n"
     ]
    }
   ],
   "source": [
    "formula = 'Quantity ~ Discount'\n",
    "lm = ols(formula, orders).fit()\n",
    "table = sm.stats.anova_lm(lm, typ=2)\n",
    "print(table)"
   ]
  },
  {
   "cell_type": "code",
   "execution_count": 29,
   "metadata": {},
   "outputs": [
    {
     "data": {
      "text/html": [
       "<table class=\"simpletable\">\n",
       "<caption>OLS Regression Results</caption>\n",
       "<tr>\n",
       "  <th>Dep. Variable:</th>        <td>Quantity</td>     <th>  R-squared:         </th> <td>   0.020</td> \n",
       "</tr>\n",
       "<tr>\n",
       "  <th>Model:</th>                   <td>OLS</td>       <th>  Adj. R-squared:    </th> <td>   0.018</td> \n",
       "</tr>\n",
       "<tr>\n",
       "  <th>Method:</th>             <td>Least Squares</td>  <th>  F-statistic:       </th> <td>   8.990</td> \n",
       "</tr>\n",
       "<tr>\n",
       "  <th>Date:</th>             <td>Thu, 30 May 2019</td> <th>  Prob (F-statistic):</th> <td>1.82e-08</td> \n",
       "</tr>\n",
       "<tr>\n",
       "  <th>Time:</th>                 <td>17:06:03</td>     <th>  Log-Likelihood:    </th> <td> -9382.8</td> \n",
       "</tr>\n",
       "<tr>\n",
       "  <th>No. Observations:</th>      <td>  2155</td>      <th>  AIC:               </th> <td>1.878e+04</td>\n",
       "</tr>\n",
       "<tr>\n",
       "  <th>Df Residuals:</th>          <td>  2149</td>      <th>  BIC:               </th> <td>1.881e+04</td>\n",
       "</tr>\n",
       "<tr>\n",
       "  <th>Df Model:</th>              <td>     5</td>      <th>                     </th>     <td> </td>    \n",
       "</tr>\n",
       "<tr>\n",
       "  <th>Covariance Type:</th>      <td>nonrobust</td>    <th>                     </th>     <td> </td>    \n",
       "</tr>\n",
       "</table>\n",
       "<table class=\"simpletable\">\n",
       "<tr>\n",
       "           <td></td>              <th>coef</th>     <th>std err</th>      <th>t</th>      <th>P>|t|</th>  <th>[0.025</th>    <th>0.975]</th>  \n",
       "</tr>\n",
       "<tr>\n",
       "  <th>Intercept</th>           <td>   21.7153</td> <td>    0.519</td> <td>   41.811</td> <td> 0.000</td> <td>   20.697</td> <td>   22.734</td>\n",
       "</tr>\n",
       "<tr>\n",
       "  <th>C(Discount)[T.0.05]</th> <td>    5.2070</td> <td>    1.453</td> <td>    3.584</td> <td> 0.000</td> <td>    2.358</td> <td>    8.056</td>\n",
       "</tr>\n",
       "<tr>\n",
       "  <th>C(Discount)[T.0.1]</th>  <td>    3.5217</td> <td>    1.524</td> <td>    2.311</td> <td> 0.021</td> <td>    0.533</td> <td>    6.511</td>\n",
       "</tr>\n",
       "<tr>\n",
       "  <th>C(Discount)[T.0.15]</th> <td>    6.6669</td> <td>    1.591</td> <td>    4.189</td> <td> 0.000</td> <td>    3.546</td> <td>    9.788</td>\n",
       "</tr>\n",
       "<tr>\n",
       "  <th>C(Discount)[T.0.2]</th>  <td>    5.3096</td> <td>    1.574</td> <td>    3.374</td> <td> 0.001</td> <td>    2.224</td> <td>    8.396</td>\n",
       "</tr>\n",
       "<tr>\n",
       "  <th>C(Discount)[T.0.25]</th> <td>    6.5250</td> <td>    1.605</td> <td>    4.065</td> <td> 0.000</td> <td>    3.377</td> <td>    9.673</td>\n",
       "</tr>\n",
       "</table>\n",
       "<table class=\"simpletable\">\n",
       "<tr>\n",
       "  <th>Omnibus:</th>       <td>785.939</td> <th>  Durbin-Watson:     </th> <td>   1.637</td>\n",
       "</tr>\n",
       "<tr>\n",
       "  <th>Prob(Omnibus):</th> <td> 0.000</td>  <th>  Jarque-Bera (JB):  </th> <td>3068.948</td>\n",
       "</tr>\n",
       "<tr>\n",
       "  <th>Skew:</th>          <td> 1.766</td>  <th>  Prob(JB):          </th> <td>    0.00</td>\n",
       "</tr>\n",
       "<tr>\n",
       "  <th>Kurtosis:</th>      <td> 7.658</td>  <th>  Cond. No.          </th> <td>    4.75</td>\n",
       "</tr>\n",
       "</table><br/><br/>Warnings:<br/>[1] Standard Errors assume that the covariance matrix of the errors is correctly specified."
      ],
      "text/plain": [
       "<class 'statsmodels.iolib.summary.Summary'>\n",
       "\"\"\"\n",
       "                            OLS Regression Results                            \n",
       "==============================================================================\n",
       "Dep. Variable:               Quantity   R-squared:                       0.020\n",
       "Model:                            OLS   Adj. R-squared:                  0.018\n",
       "Method:                 Least Squares   F-statistic:                     8.990\n",
       "Date:                Thu, 30 May 2019   Prob (F-statistic):           1.82e-08\n",
       "Time:                        17:06:03   Log-Likelihood:                -9382.8\n",
       "No. Observations:                2155   AIC:                         1.878e+04\n",
       "Df Residuals:                    2149   BIC:                         1.881e+04\n",
       "Df Model:                           5                                         \n",
       "Covariance Type:            nonrobust                                         \n",
       "=======================================================================================\n",
       "                          coef    std err          t      P>|t|      [0.025      0.975]\n",
       "---------------------------------------------------------------------------------------\n",
       "Intercept              21.7153      0.519     41.811      0.000      20.697      22.734\n",
       "C(Discount)[T.0.05]     5.2070      1.453      3.584      0.000       2.358       8.056\n",
       "C(Discount)[T.0.1]      3.5217      1.524      2.311      0.021       0.533       6.511\n",
       "C(Discount)[T.0.15]     6.6669      1.591      4.189      0.000       3.546       9.788\n",
       "C(Discount)[T.0.2]      5.3096      1.574      3.374      0.001       2.224       8.396\n",
       "C(Discount)[T.0.25]     6.5250      1.605      4.065      0.000       3.377       9.673\n",
       "==============================================================================\n",
       "Omnibus:                      785.939   Durbin-Watson:                   1.637\n",
       "Prob(Omnibus):                  0.000   Jarque-Bera (JB):             3068.948\n",
       "Skew:                           1.766   Prob(JB):                         0.00\n",
       "Kurtosis:                       7.658   Cond. No.                         4.75\n",
       "==============================================================================\n",
       "\n",
       "Warnings:\n",
       "[1] Standard Errors assume that the covariance matrix of the errors is correctly specified.\n",
       "\"\"\""
      ]
     },
     "execution_count": 29,
     "metadata": {},
     "output_type": "execute_result"
    }
   ],
   "source": [
    "results = ols('Quantity ~ C(Discount)', data=orders).fit()\n",
    "results.summary()"
   ]
  },
  {
   "cell_type": "code",
   "execution_count": 30,
   "metadata": {},
   "outputs": [
    {
     "name": "stdout",
     "output_type": "stream",
     "text": [
      "Multiple Comparison of Means - Tukey HSD,FWER=0.05\n",
      "=============================================\n",
      "group1 group2 meandiff  lower   upper  reject\n",
      "---------------------------------------------\n",
      " 0.0    0.05   5.207    1.0635  9.3506  True \n",
      " 0.0    0.1    3.5217  -0.8257  7.8692 False \n",
      " 0.0    0.15   6.6669   2.1279 11.2059  True \n",
      " 0.0    0.2    5.3096   0.8212  9.7979  True \n",
      " 0.0    0.25   6.525    1.9467 11.1033  True \n",
      " 0.05   0.1   -1.6853  -7.3138  3.9432 False \n",
      " 0.05   0.15   1.4599  -4.3179  7.2377 False \n",
      " 0.05   0.2    0.1026  -5.6355  5.8406 False \n",
      " 0.05   0.25   1.318   -4.4907  7.1267 False \n",
      " 0.1    0.15   3.1452  -2.7805  9.0709 False \n",
      " 0.1    0.2    1.7879  -4.0991  7.6748 False \n",
      " 0.1    0.25   3.0033  -2.9526  8.9591 False \n",
      " 0.15   0.2   -1.3573  -7.3872  4.6725 False \n",
      " 0.15   0.25  -0.1419   -6.239  5.9552 False \n",
      " 0.2    0.25   1.2154  -4.8441  7.2749 False \n",
      "---------------------------------------------\n"
     ]
    }
   ],
   "source": [
    "from statsmodels.stats.multicomp import MultiComparison\n",
    "mc = MultiComparison(orders.Quantity, orders.Discount)\n",
    "mc_results = mc.tukeyhsd()\n",
    "print(mc_results)"
   ]
  },
  {
   "cell_type": "code",
   "execution_count": 31,
   "metadata": {},
   "outputs": [
    {
     "data": {
      "text/plain": [
       "(0.8617812991142273, 5.71193076132689e-40)"
      ]
     },
     "execution_count": 31,
     "metadata": {},
     "output_type": "execute_result"
    }
   ],
   "source": [
    "stats.shapiro(results.resid)"
   ]
  },
  {
   "cell_type": "code",
   "execution_count": 32,
   "metadata": {},
   "outputs": [
    {
     "data": {
      "text/plain": [
       "LeveneResult(statistic=0.23741425853156475, pvalue=0.9172428335770793)"
      ]
     },
     "execution_count": 32,
     "metadata": {},
     "output_type": "execute_result"
    }
   ],
   "source": [
    "stats.levene(orders['Quantity'][orders['Discount'] == 0.05],\n",
    "             orders['Quantity'][orders['Discount'] == 0.10],\n",
    "             orders['Quantity'][orders['Discount'] == 0.15],\n",
    "             orders['Quantity'][orders['Discount'] == 0.20],\n",
    "             orders['Quantity'][orders['Discount'] == 0.25])"
   ]
  },
  {
   "cell_type": "markdown",
   "metadata": {},
   "source": [
    "## 1.7: Bonferroni Correction Post-Hoc Comparison"
   ]
  },
  {
   "cell_type": "markdown",
   "metadata": {},
   "source": [
    "The correct p-values must be calculated:\n",
    "\n",
    "p-value/number of comparisons = corrected p-value"
   ]
  },
  {
   "cell_type": "code",
   "execution_count": 33,
   "metadata": {},
   "outputs": [
    {
     "data": {
      "text/plain": [
       "0.008333333333333333"
      ]
     },
     "execution_count": 33,
     "metadata": {},
     "output_type": "execute_result"
    }
   ],
   "source": [
    "p_value = .05\n",
    "no_of_comparisons = 6\n",
    "p_value/no_of_comparisons"
   ]
  },
  {
   "cell_type": "markdown",
   "metadata": {},
   "source": [
    "**(Want to figure out how to clean this up using a function)**"
   ]
  },
  {
   "cell_type": "code",
   "execution_count": 34,
   "metadata": {},
   "outputs": [
    {
     "data": {
      "text/plain": [
       "Ttest_indResult(statistic=-3.712926500155175, pvalue=0.00021233599028873263)"
      ]
     },
     "execution_count": 34,
     "metadata": {},
     "output_type": "execute_result"
    }
   ],
   "source": [
    "stats.ttest_ind(orders['Quantity'][orders['Discount'] == 0.0], orders['Quantity'][orders['Discount'] == 0.05])"
   ]
  },
  {
   "cell_type": "code",
   "execution_count": 35,
   "metadata": {},
   "outputs": [
    {
     "data": {
      "text/plain": [
       "Ttest_indResult(statistic=-4.411192556207304, pvalue=1.1027809944864872e-05)"
      ]
     },
     "execution_count": 35,
     "metadata": {},
     "output_type": "execute_result"
    }
   ],
   "source": [
    "stats.ttest_ind(orders['Quantity'][orders['Discount'] == 0.0], orders['Quantity'][orders['Discount'] == 0.15])"
   ]
  },
  {
   "cell_type": "code",
   "execution_count": 36,
   "metadata": {},
   "outputs": [
    {
     "data": {
      "text/plain": [
       "Ttest_indResult(statistic=-3.6019486047561884, pvalue=0.00032631258591041463)"
      ]
     },
     "execution_count": 36,
     "metadata": {},
     "output_type": "execute_result"
    }
   ],
   "source": [
    "stats.ttest_ind(orders['Quantity'][orders['Discount'] == 0.0], orders['Quantity'][orders['Discount'] == 0.20])"
   ]
  },
  {
   "cell_type": "code",
   "execution_count": 37,
   "metadata": {
    "scrolled": true
   },
   "outputs": [
    {
     "data": {
      "text/plain": [
       "Ttest_indResult(statistic=-4.304937285665697, pvalue=1.780928988051903e-05)"
      ]
     },
     "execution_count": 37,
     "metadata": {},
     "output_type": "execute_result"
    }
   ],
   "source": [
    "stats.ttest_ind(orders['Quantity'][orders['Discount'] == 0.0], orders['Quantity'][orders['Discount'] == 0.25])"
   ]
  },
  {
   "cell_type": "markdown",
   "metadata": {},
   "source": [
    "## 1.8: Conclusions"
   ]
  },
  {
   "cell_type": "markdown",
   "metadata": {},
   "source": [
    "- Based on our statistical testing, we can confidently reject the null hypothesis that says there is no difference in non-discounted order quantities and discounted order quantities. \n",
    "\n",
    "- Analyzing the discounts at specific levels, we came away with the finding that there is a statistically significant increase in order quantity between non-discounted orders and discounted orders of 5%, 15%, 20%, and 25%. "
   ]
  },
  {
   "cell_type": "markdown",
   "metadata": {},
   "source": [
    "# 2: Does time of year have a statistically significant impact on freight costs?"
   ]
  },
  {
   "cell_type": "markdown",
   "metadata": {},
   "source": [
    "**$H_O$: There is no difference in average freight price for each month.**\n",
    "\n",
    "**$H_A$: There is at least one average freight price that is different amongst all months.**"
   ]
  },
  {
   "cell_type": "markdown",
   "metadata": {},
   "source": [
    "## 2.1: Exploratory Data Analysis & Cleaning"
   ]
  },
  {
   "cell_type": "code",
   "execution_count": 38,
   "metadata": {},
   "outputs": [
    {
     "data": {
      "text/html": [
       "<div>\n",
       "<style scoped>\n",
       "    .dataframe tbody tr th:only-of-type {\n",
       "        vertical-align: middle;\n",
       "    }\n",
       "\n",
       "    .dataframe tbody tr th {\n",
       "        vertical-align: top;\n",
       "    }\n",
       "\n",
       "    .dataframe thead th {\n",
       "        text-align: right;\n",
       "    }\n",
       "</style>\n",
       "<table border=\"1\" class=\"dataframe\">\n",
       "  <thead>\n",
       "    <tr style=\"text-align: right;\">\n",
       "      <th></th>\n",
       "      <th>Id</th>\n",
       "      <th>CustomerId</th>\n",
       "      <th>EmployeeId</th>\n",
       "      <th>OrderDate</th>\n",
       "      <th>RequiredDate</th>\n",
       "      <th>ShippedDate</th>\n",
       "      <th>ShipVia</th>\n",
       "      <th>Freight</th>\n",
       "      <th>ShipName</th>\n",
       "      <th>ShipAddress</th>\n",
       "      <th>ShipCity</th>\n",
       "      <th>ShipRegion</th>\n",
       "      <th>ShipPostalCode</th>\n",
       "      <th>ShipCountry</th>\n",
       "    </tr>\n",
       "  </thead>\n",
       "  <tbody>\n",
       "    <tr>\n",
       "      <th>0</th>\n",
       "      <td>10248</td>\n",
       "      <td>VINET</td>\n",
       "      <td>5</td>\n",
       "      <td>2012-07-04</td>\n",
       "      <td>2012-08-01</td>\n",
       "      <td>2012-07-16</td>\n",
       "      <td>3</td>\n",
       "      <td>32.38</td>\n",
       "      <td>Vins et alcools Chevalier</td>\n",
       "      <td>59 rue de l'Abbaye</td>\n",
       "      <td>Reims</td>\n",
       "      <td>Western Europe</td>\n",
       "      <td>51100</td>\n",
       "      <td>France</td>\n",
       "    </tr>\n",
       "    <tr>\n",
       "      <th>1</th>\n",
       "      <td>10249</td>\n",
       "      <td>TOMSP</td>\n",
       "      <td>6</td>\n",
       "      <td>2012-07-05</td>\n",
       "      <td>2012-08-16</td>\n",
       "      <td>2012-07-10</td>\n",
       "      <td>1</td>\n",
       "      <td>11.61</td>\n",
       "      <td>Toms Spezialitäten</td>\n",
       "      <td>Luisenstr. 48</td>\n",
       "      <td>Münster</td>\n",
       "      <td>Western Europe</td>\n",
       "      <td>44087</td>\n",
       "      <td>Germany</td>\n",
       "    </tr>\n",
       "    <tr>\n",
       "      <th>2</th>\n",
       "      <td>10250</td>\n",
       "      <td>HANAR</td>\n",
       "      <td>4</td>\n",
       "      <td>2012-07-08</td>\n",
       "      <td>2012-08-05</td>\n",
       "      <td>2012-07-12</td>\n",
       "      <td>2</td>\n",
       "      <td>65.83</td>\n",
       "      <td>Hanari Carnes</td>\n",
       "      <td>Rua do Paço, 67</td>\n",
       "      <td>Rio de Janeiro</td>\n",
       "      <td>South America</td>\n",
       "      <td>05454-876</td>\n",
       "      <td>Brazil</td>\n",
       "    </tr>\n",
       "    <tr>\n",
       "      <th>3</th>\n",
       "      <td>10251</td>\n",
       "      <td>VICTE</td>\n",
       "      <td>3</td>\n",
       "      <td>2012-07-08</td>\n",
       "      <td>2012-08-05</td>\n",
       "      <td>2012-07-15</td>\n",
       "      <td>1</td>\n",
       "      <td>41.34</td>\n",
       "      <td>Victuailles en stock</td>\n",
       "      <td>2, rue du Commerce</td>\n",
       "      <td>Lyon</td>\n",
       "      <td>Western Europe</td>\n",
       "      <td>69004</td>\n",
       "      <td>France</td>\n",
       "    </tr>\n",
       "    <tr>\n",
       "      <th>4</th>\n",
       "      <td>10252</td>\n",
       "      <td>SUPRD</td>\n",
       "      <td>4</td>\n",
       "      <td>2012-07-09</td>\n",
       "      <td>2012-08-06</td>\n",
       "      <td>2012-07-11</td>\n",
       "      <td>2</td>\n",
       "      <td>51.30</td>\n",
       "      <td>Suprêmes délices</td>\n",
       "      <td>Boulevard Tirou, 255</td>\n",
       "      <td>Charleroi</td>\n",
       "      <td>Western Europe</td>\n",
       "      <td>B-6000</td>\n",
       "      <td>Belgium</td>\n",
       "    </tr>\n",
       "  </tbody>\n",
       "</table>\n",
       "</div>"
      ],
      "text/plain": [
       "      Id CustomerId  EmployeeId   OrderDate RequiredDate ShippedDate  ShipVia  \\\n",
       "0  10248      VINET           5  2012-07-04   2012-08-01  2012-07-16        3   \n",
       "1  10249      TOMSP           6  2012-07-05   2012-08-16  2012-07-10        1   \n",
       "2  10250      HANAR           4  2012-07-08   2012-08-05  2012-07-12        2   \n",
       "3  10251      VICTE           3  2012-07-08   2012-08-05  2012-07-15        1   \n",
       "4  10252      SUPRD           4  2012-07-09   2012-08-06  2012-07-11        2   \n",
       "\n",
       "   Freight                   ShipName           ShipAddress        ShipCity  \\\n",
       "0    32.38  Vins et alcools Chevalier    59 rue de l'Abbaye           Reims   \n",
       "1    11.61         Toms Spezialitäten         Luisenstr. 48         Münster   \n",
       "2    65.83              Hanari Carnes       Rua do Paço, 67  Rio de Janeiro   \n",
       "3    41.34       Victuailles en stock    2, rue du Commerce            Lyon   \n",
       "4    51.30           Suprêmes délices  Boulevard Tirou, 255       Charleroi   \n",
       "\n",
       "       ShipRegion ShipPostalCode ShipCountry  \n",
       "0  Western Europe          51100      France  \n",
       "1  Western Europe          44087     Germany  \n",
       "2   South America      05454-876      Brazil  \n",
       "3  Western Europe          69004      France  \n",
       "4  Western Europe         B-6000     Belgium  "
      ]
     },
     "execution_count": 38,
     "metadata": {},
     "output_type": "execute_result"
    }
   ],
   "source": [
    "c.execute('''SELECT *\n",
    "             FROM 'Order';''')\n",
    "freight = pd.DataFrame(c.fetchall())\n",
    "freight.columns = [i[0] for i in c.description]\n",
    "freight.head()"
   ]
  },
  {
   "cell_type": "code",
   "execution_count": 39,
   "metadata": {},
   "outputs": [],
   "source": [
    "freight = freight.drop(['CustomerId', 'EmployeeId', 'OrderDate', 'RequiredDate', 'ShipName', \n",
    "                        'ShipCity', 'ShipAddress', 'ShipRegion', 'ShipPostalCode', 'ShipCountry'], axis=1)"
   ]
  },
  {
   "cell_type": "code",
   "execution_count": 40,
   "metadata": {},
   "outputs": [
    {
     "data": {
      "text/html": [
       "<div>\n",
       "<style scoped>\n",
       "    .dataframe tbody tr th:only-of-type {\n",
       "        vertical-align: middle;\n",
       "    }\n",
       "\n",
       "    .dataframe tbody tr th {\n",
       "        vertical-align: top;\n",
       "    }\n",
       "\n",
       "    .dataframe thead th {\n",
       "        text-align: right;\n",
       "    }\n",
       "</style>\n",
       "<table border=\"1\" class=\"dataframe\">\n",
       "  <thead>\n",
       "    <tr style=\"text-align: right;\">\n",
       "      <th></th>\n",
       "      <th>Id</th>\n",
       "      <th>ShippedDate</th>\n",
       "      <th>ShipVia</th>\n",
       "      <th>Freight</th>\n",
       "    </tr>\n",
       "  </thead>\n",
       "  <tbody>\n",
       "    <tr>\n",
       "      <th>0</th>\n",
       "      <td>10248</td>\n",
       "      <td>2012-07-16</td>\n",
       "      <td>3</td>\n",
       "      <td>32.38</td>\n",
       "    </tr>\n",
       "    <tr>\n",
       "      <th>1</th>\n",
       "      <td>10249</td>\n",
       "      <td>2012-07-10</td>\n",
       "      <td>1</td>\n",
       "      <td>11.61</td>\n",
       "    </tr>\n",
       "    <tr>\n",
       "      <th>2</th>\n",
       "      <td>10250</td>\n",
       "      <td>2012-07-12</td>\n",
       "      <td>2</td>\n",
       "      <td>65.83</td>\n",
       "    </tr>\n",
       "    <tr>\n",
       "      <th>3</th>\n",
       "      <td>10251</td>\n",
       "      <td>2012-07-15</td>\n",
       "      <td>1</td>\n",
       "      <td>41.34</td>\n",
       "    </tr>\n",
       "    <tr>\n",
       "      <th>4</th>\n",
       "      <td>10252</td>\n",
       "      <td>2012-07-11</td>\n",
       "      <td>2</td>\n",
       "      <td>51.30</td>\n",
       "    </tr>\n",
       "  </tbody>\n",
       "</table>\n",
       "</div>"
      ],
      "text/plain": [
       "      Id ShippedDate  ShipVia  Freight\n",
       "0  10248  2012-07-16        3    32.38\n",
       "1  10249  2012-07-10        1    11.61\n",
       "2  10250  2012-07-12        2    65.83\n",
       "3  10251  2012-07-15        1    41.34\n",
       "4  10252  2012-07-11        2    51.30"
      ]
     },
     "execution_count": 40,
     "metadata": {},
     "output_type": "execute_result"
    }
   ],
   "source": [
    "freight.head()"
   ]
  },
  {
   "cell_type": "code",
   "execution_count": 41,
   "metadata": {},
   "outputs": [
    {
     "name": "stdout",
     "output_type": "stream",
     "text": [
      "<class 'pandas.core.frame.DataFrame'>\n",
      "RangeIndex: 830 entries, 0 to 829\n",
      "Data columns (total 4 columns):\n",
      "Id             830 non-null int64\n",
      "ShippedDate    809 non-null object\n",
      "ShipVia        830 non-null int64\n",
      "Freight        830 non-null float64\n",
      "dtypes: float64(1), int64(2), object(1)\n",
      "memory usage: 26.0+ KB\n"
     ]
    }
   ],
   "source": [
    "freight.info()"
   ]
  },
  {
   "cell_type": "code",
   "execution_count": 42,
   "metadata": {
    "scrolled": true
   },
   "outputs": [
    {
     "data": {
      "text/plain": [
       "21"
      ]
     },
     "execution_count": 42,
     "metadata": {},
     "output_type": "execute_result"
    }
   ],
   "source": [
    "freight['ShippedDate'].isnull().sum()"
   ]
  },
  {
   "cell_type": "code",
   "execution_count": 43,
   "metadata": {},
   "outputs": [],
   "source": [
    "freight['ShipVia'] = freight['ShipVia'].astype('object')"
   ]
  },
  {
   "cell_type": "code",
   "execution_count": 44,
   "metadata": {},
   "outputs": [],
   "source": [
    "freight_null = freight[freight.isna().any(axis=1)]"
   ]
  },
  {
   "cell_type": "code",
   "execution_count": 45,
   "metadata": {},
   "outputs": [
    {
     "data": {
      "text/html": [
       "<div>\n",
       "<style scoped>\n",
       "    .dataframe tbody tr th:only-of-type {\n",
       "        vertical-align: middle;\n",
       "    }\n",
       "\n",
       "    .dataframe tbody tr th {\n",
       "        vertical-align: top;\n",
       "    }\n",
       "\n",
       "    .dataframe thead th {\n",
       "        text-align: right;\n",
       "    }\n",
       "</style>\n",
       "<table border=\"1\" class=\"dataframe\">\n",
       "  <thead>\n",
       "    <tr style=\"text-align: right;\">\n",
       "      <th></th>\n",
       "      <th>Id</th>\n",
       "      <th>ShippedDate</th>\n",
       "      <th>ShipVia</th>\n",
       "      <th>Freight</th>\n",
       "    </tr>\n",
       "  </thead>\n",
       "  <tbody>\n",
       "    <tr>\n",
       "      <th>760</th>\n",
       "      <td>11008</td>\n",
       "      <td>None</td>\n",
       "      <td>3</td>\n",
       "      <td>79.46</td>\n",
       "    </tr>\n",
       "    <tr>\n",
       "      <th>771</th>\n",
       "      <td>11019</td>\n",
       "      <td>None</td>\n",
       "      <td>3</td>\n",
       "      <td>3.17</td>\n",
       "    </tr>\n",
       "    <tr>\n",
       "      <th>791</th>\n",
       "      <td>11039</td>\n",
       "      <td>None</td>\n",
       "      <td>2</td>\n",
       "      <td>65.00</td>\n",
       "    </tr>\n",
       "    <tr>\n",
       "      <th>792</th>\n",
       "      <td>11040</td>\n",
       "      <td>None</td>\n",
       "      <td>3</td>\n",
       "      <td>18.84</td>\n",
       "    </tr>\n",
       "    <tr>\n",
       "      <th>797</th>\n",
       "      <td>11045</td>\n",
       "      <td>None</td>\n",
       "      <td>2</td>\n",
       "      <td>70.58</td>\n",
       "    </tr>\n",
       "    <tr>\n",
       "      <th>803</th>\n",
       "      <td>11051</td>\n",
       "      <td>None</td>\n",
       "      <td>3</td>\n",
       "      <td>2.79</td>\n",
       "    </tr>\n",
       "    <tr>\n",
       "      <th>806</th>\n",
       "      <td>11054</td>\n",
       "      <td>None</td>\n",
       "      <td>1</td>\n",
       "      <td>0.33</td>\n",
       "    </tr>\n",
       "    <tr>\n",
       "      <th>810</th>\n",
       "      <td>11058</td>\n",
       "      <td>None</td>\n",
       "      <td>3</td>\n",
       "      <td>31.14</td>\n",
       "    </tr>\n",
       "    <tr>\n",
       "      <th>811</th>\n",
       "      <td>11059</td>\n",
       "      <td>None</td>\n",
       "      <td>2</td>\n",
       "      <td>85.80</td>\n",
       "    </tr>\n",
       "    <tr>\n",
       "      <th>813</th>\n",
       "      <td>11061</td>\n",
       "      <td>None</td>\n",
       "      <td>3</td>\n",
       "      <td>14.01</td>\n",
       "    </tr>\n",
       "    <tr>\n",
       "      <th>814</th>\n",
       "      <td>11062</td>\n",
       "      <td>None</td>\n",
       "      <td>2</td>\n",
       "      <td>29.93</td>\n",
       "    </tr>\n",
       "    <tr>\n",
       "      <th>817</th>\n",
       "      <td>11065</td>\n",
       "      <td>None</td>\n",
       "      <td>1</td>\n",
       "      <td>12.91</td>\n",
       "    </tr>\n",
       "    <tr>\n",
       "      <th>820</th>\n",
       "      <td>11068</td>\n",
       "      <td>None</td>\n",
       "      <td>2</td>\n",
       "      <td>81.75</td>\n",
       "    </tr>\n",
       "    <tr>\n",
       "      <th>822</th>\n",
       "      <td>11070</td>\n",
       "      <td>None</td>\n",
       "      <td>1</td>\n",
       "      <td>136.00</td>\n",
       "    </tr>\n",
       "    <tr>\n",
       "      <th>823</th>\n",
       "      <td>11071</td>\n",
       "      <td>None</td>\n",
       "      <td>1</td>\n",
       "      <td>0.93</td>\n",
       "    </tr>\n",
       "    <tr>\n",
       "      <th>824</th>\n",
       "      <td>11072</td>\n",
       "      <td>None</td>\n",
       "      <td>2</td>\n",
       "      <td>258.64</td>\n",
       "    </tr>\n",
       "    <tr>\n",
       "      <th>825</th>\n",
       "      <td>11073</td>\n",
       "      <td>None</td>\n",
       "      <td>2</td>\n",
       "      <td>24.95</td>\n",
       "    </tr>\n",
       "    <tr>\n",
       "      <th>826</th>\n",
       "      <td>11074</td>\n",
       "      <td>None</td>\n",
       "      <td>2</td>\n",
       "      <td>18.44</td>\n",
       "    </tr>\n",
       "    <tr>\n",
       "      <th>827</th>\n",
       "      <td>11075</td>\n",
       "      <td>None</td>\n",
       "      <td>2</td>\n",
       "      <td>6.19</td>\n",
       "    </tr>\n",
       "    <tr>\n",
       "      <th>828</th>\n",
       "      <td>11076</td>\n",
       "      <td>None</td>\n",
       "      <td>2</td>\n",
       "      <td>38.28</td>\n",
       "    </tr>\n",
       "    <tr>\n",
       "      <th>829</th>\n",
       "      <td>11077</td>\n",
       "      <td>None</td>\n",
       "      <td>2</td>\n",
       "      <td>8.53</td>\n",
       "    </tr>\n",
       "  </tbody>\n",
       "</table>\n",
       "</div>"
      ],
      "text/plain": [
       "        Id ShippedDate ShipVia  Freight\n",
       "760  11008        None       3    79.46\n",
       "771  11019        None       3     3.17\n",
       "791  11039        None       2    65.00\n",
       "792  11040        None       3    18.84\n",
       "797  11045        None       2    70.58\n",
       "803  11051        None       3     2.79\n",
       "806  11054        None       1     0.33\n",
       "810  11058        None       3    31.14\n",
       "811  11059        None       2    85.80\n",
       "813  11061        None       3    14.01\n",
       "814  11062        None       2    29.93\n",
       "817  11065        None       1    12.91\n",
       "820  11068        None       2    81.75\n",
       "822  11070        None       1   136.00\n",
       "823  11071        None       1     0.93\n",
       "824  11072        None       2   258.64\n",
       "825  11073        None       2    24.95\n",
       "826  11074        None       2    18.44\n",
       "827  11075        None       2     6.19\n",
       "828  11076        None       2    38.28\n",
       "829  11077        None       2     8.53"
      ]
     },
     "execution_count": 45,
     "metadata": {},
     "output_type": "execute_result"
    }
   ],
   "source": [
    "freight_null"
   ]
  },
  {
   "cell_type": "markdown",
   "metadata": {},
   "source": [
    "The null values under shipping date give no indication as to what month they might be, so we will delete these from our analysis. "
   ]
  },
  {
   "cell_type": "code",
   "execution_count": 46,
   "metadata": {},
   "outputs": [],
   "source": [
    "freight = freight.dropna()"
   ]
  },
  {
   "cell_type": "code",
   "execution_count": 47,
   "metadata": {
    "scrolled": true
   },
   "outputs": [
    {
     "name": "stdout",
     "output_type": "stream",
     "text": [
      "<class 'pandas.core.frame.DataFrame'>\n",
      "Int64Index: 809 entries, 0 to 821\n",
      "Data columns (total 4 columns):\n",
      "Id             809 non-null int64\n",
      "ShippedDate    809 non-null object\n",
      "ShipVia        809 non-null object\n",
      "Freight        809 non-null float64\n",
      "dtypes: float64(1), int64(1), object(2)\n",
      "memory usage: 31.6+ KB\n"
     ]
    }
   ],
   "source": [
    "freight.info()"
   ]
  },
  {
   "cell_type": "markdown",
   "metadata": {},
   "source": [
    "Now that null values are dropped, we can move on to converting the current date format to just month names, since we're only concerned about the time of year affecting freight prices."
   ]
  },
  {
   "cell_type": "code",
   "execution_count": 48,
   "metadata": {},
   "outputs": [
    {
     "name": "stdout",
     "output_type": "stream",
     "text": [
      "<class 'pandas.core.frame.DataFrame'>\n",
      "Int64Index: 809 entries, 0 to 821\n",
      "Data columns (total 4 columns):\n",
      "Id             809 non-null int64\n",
      "ShippedDate    809 non-null object\n",
      "ShipVia        809 non-null object\n",
      "Freight        809 non-null float64\n",
      "dtypes: float64(1), int64(1), object(2)\n",
      "memory usage: 31.6+ KB\n"
     ]
    }
   ],
   "source": [
    "freight.info()"
   ]
  },
  {
   "cell_type": "code",
   "execution_count": 49,
   "metadata": {},
   "outputs": [
    {
     "data": {
      "text/html": [
       "<div>\n",
       "<style scoped>\n",
       "    .dataframe tbody tr th:only-of-type {\n",
       "        vertical-align: middle;\n",
       "    }\n",
       "\n",
       "    .dataframe tbody tr th {\n",
       "        vertical-align: top;\n",
       "    }\n",
       "\n",
       "    .dataframe thead th {\n",
       "        text-align: right;\n",
       "    }\n",
       "</style>\n",
       "<table border=\"1\" class=\"dataframe\">\n",
       "  <thead>\n",
       "    <tr style=\"text-align: right;\">\n",
       "      <th></th>\n",
       "      <th>Id</th>\n",
       "      <th>ShippedDate</th>\n",
       "      <th>ShipVia</th>\n",
       "      <th>Freight</th>\n",
       "    </tr>\n",
       "  </thead>\n",
       "  <tbody>\n",
       "    <tr>\n",
       "      <th>0</th>\n",
       "      <td>10248</td>\n",
       "      <td>2012-07-16</td>\n",
       "      <td>3</td>\n",
       "      <td>32.38</td>\n",
       "    </tr>\n",
       "    <tr>\n",
       "      <th>1</th>\n",
       "      <td>10249</td>\n",
       "      <td>2012-07-10</td>\n",
       "      <td>1</td>\n",
       "      <td>11.61</td>\n",
       "    </tr>\n",
       "    <tr>\n",
       "      <th>2</th>\n",
       "      <td>10250</td>\n",
       "      <td>2012-07-12</td>\n",
       "      <td>2</td>\n",
       "      <td>65.83</td>\n",
       "    </tr>\n",
       "    <tr>\n",
       "      <th>3</th>\n",
       "      <td>10251</td>\n",
       "      <td>2012-07-15</td>\n",
       "      <td>1</td>\n",
       "      <td>41.34</td>\n",
       "    </tr>\n",
       "    <tr>\n",
       "      <th>4</th>\n",
       "      <td>10252</td>\n",
       "      <td>2012-07-11</td>\n",
       "      <td>2</td>\n",
       "      <td>51.30</td>\n",
       "    </tr>\n",
       "  </tbody>\n",
       "</table>\n",
       "</div>"
      ],
      "text/plain": [
       "      Id ShippedDate ShipVia  Freight\n",
       "0  10248  2012-07-16       3    32.38\n",
       "1  10249  2012-07-10       1    11.61\n",
       "2  10250  2012-07-12       2    65.83\n",
       "3  10251  2012-07-15       1    41.34\n",
       "4  10252  2012-07-11       2    51.30"
      ]
     },
     "execution_count": 49,
     "metadata": {},
     "output_type": "execute_result"
    }
   ],
   "source": [
    "freight.head()"
   ]
  },
  {
   "cell_type": "code",
   "execution_count": 50,
   "metadata": {
    "scrolled": false
   },
   "outputs": [
    {
     "name": "stdout",
     "output_type": "stream",
     "text": [
      "<class 'pandas.core.frame.DataFrame'>\n",
      "Int64Index: 809 entries, 0 to 821\n",
      "Data columns (total 4 columns):\n",
      "Id             809 non-null int64\n",
      "ShippedDate    809 non-null object\n",
      "ShipVia        809 non-null object\n",
      "Freight        809 non-null float64\n",
      "dtypes: float64(1), int64(1), object(2)\n",
      "memory usage: 31.6+ KB\n"
     ]
    }
   ],
   "source": [
    "freight.info()"
   ]
  },
  {
   "cell_type": "code",
   "execution_count": 51,
   "metadata": {},
   "outputs": [],
   "source": [
    "freight['ShippedDate'] = pd.to_datetime(freight['ShippedDate'])"
   ]
  },
  {
   "cell_type": "code",
   "execution_count": 52,
   "metadata": {},
   "outputs": [
    {
     "name": "stdout",
     "output_type": "stream",
     "text": [
      "<class 'pandas.core.frame.DataFrame'>\n",
      "Int64Index: 809 entries, 0 to 821\n",
      "Data columns (total 4 columns):\n",
      "Id             809 non-null int64\n",
      "ShippedDate    809 non-null datetime64[ns]\n",
      "ShipVia        809 non-null object\n",
      "Freight        809 non-null float64\n",
      "dtypes: datetime64[ns](1), float64(1), int64(1), object(1)\n",
      "memory usage: 31.6+ KB\n"
     ]
    }
   ],
   "source": [
    "freight.info()"
   ]
  },
  {
   "cell_type": "code",
   "execution_count": 53,
   "metadata": {},
   "outputs": [],
   "source": [
    "freight['ShippedDate'] = freight['ShippedDate'].dt.strftime('%m')"
   ]
  },
  {
   "cell_type": "code",
   "execution_count": 54,
   "metadata": {
    "scrolled": true
   },
   "outputs": [
    {
     "data": {
      "text/html": [
       "<div>\n",
       "<style scoped>\n",
       "    .dataframe tbody tr th:only-of-type {\n",
       "        vertical-align: middle;\n",
       "    }\n",
       "\n",
       "    .dataframe tbody tr th {\n",
       "        vertical-align: top;\n",
       "    }\n",
       "\n",
       "    .dataframe thead th {\n",
       "        text-align: right;\n",
       "    }\n",
       "</style>\n",
       "<table border=\"1\" class=\"dataframe\">\n",
       "  <thead>\n",
       "    <tr style=\"text-align: right;\">\n",
       "      <th></th>\n",
       "      <th>Id</th>\n",
       "      <th>ShippedDate</th>\n",
       "      <th>ShipVia</th>\n",
       "      <th>Freight</th>\n",
       "    </tr>\n",
       "  </thead>\n",
       "  <tbody>\n",
       "    <tr>\n",
       "      <th>0</th>\n",
       "      <td>10248</td>\n",
       "      <td>07</td>\n",
       "      <td>3</td>\n",
       "      <td>32.38</td>\n",
       "    </tr>\n",
       "    <tr>\n",
       "      <th>1</th>\n",
       "      <td>10249</td>\n",
       "      <td>07</td>\n",
       "      <td>1</td>\n",
       "      <td>11.61</td>\n",
       "    </tr>\n",
       "    <tr>\n",
       "      <th>2</th>\n",
       "      <td>10250</td>\n",
       "      <td>07</td>\n",
       "      <td>2</td>\n",
       "      <td>65.83</td>\n",
       "    </tr>\n",
       "    <tr>\n",
       "      <th>3</th>\n",
       "      <td>10251</td>\n",
       "      <td>07</td>\n",
       "      <td>1</td>\n",
       "      <td>41.34</td>\n",
       "    </tr>\n",
       "    <tr>\n",
       "      <th>4</th>\n",
       "      <td>10252</td>\n",
       "      <td>07</td>\n",
       "      <td>2</td>\n",
       "      <td>51.30</td>\n",
       "    </tr>\n",
       "  </tbody>\n",
       "</table>\n",
       "</div>"
      ],
      "text/plain": [
       "      Id ShippedDate ShipVia  Freight\n",
       "0  10248          07       3    32.38\n",
       "1  10249          07       1    11.61\n",
       "2  10250          07       2    65.83\n",
       "3  10251          07       1    41.34\n",
       "4  10252          07       2    51.30"
      ]
     },
     "execution_count": 54,
     "metadata": {},
     "output_type": "execute_result"
    }
   ],
   "source": [
    "freight.head()"
   ]
  },
  {
   "cell_type": "code",
   "execution_count": 55,
   "metadata": {},
   "outputs": [],
   "source": [
    "freight['ShippedDate'] = freight['ShippedDate'].astype(int)"
   ]
  },
  {
   "cell_type": "code",
   "execution_count": 57,
   "metadata": {},
   "outputs": [],
   "source": [
    "import calendar"
   ]
  },
  {
   "cell_type": "code",
   "execution_count": 58,
   "metadata": {
    "scrolled": true
   },
   "outputs": [],
   "source": [
    "freight['ShippedDate'] = freight['ShippedDate'].apply(lambda x: calendar.month_name[x])"
   ]
  },
  {
   "cell_type": "code",
   "execution_count": 59,
   "metadata": {
    "scrolled": true
   },
   "outputs": [
    {
     "data": {
      "text/html": [
       "<div>\n",
       "<style scoped>\n",
       "    .dataframe tbody tr th:only-of-type {\n",
       "        vertical-align: middle;\n",
       "    }\n",
       "\n",
       "    .dataframe tbody tr th {\n",
       "        vertical-align: top;\n",
       "    }\n",
       "\n",
       "    .dataframe thead th {\n",
       "        text-align: right;\n",
       "    }\n",
       "</style>\n",
       "<table border=\"1\" class=\"dataframe\">\n",
       "  <thead>\n",
       "    <tr style=\"text-align: right;\">\n",
       "      <th></th>\n",
       "      <th>Id</th>\n",
       "      <th>ShippedDate</th>\n",
       "      <th>ShipVia</th>\n",
       "      <th>Freight</th>\n",
       "    </tr>\n",
       "  </thead>\n",
       "  <tbody>\n",
       "    <tr>\n",
       "      <th>0</th>\n",
       "      <td>10248</td>\n",
       "      <td>July</td>\n",
       "      <td>3</td>\n",
       "      <td>32.38</td>\n",
       "    </tr>\n",
       "    <tr>\n",
       "      <th>1</th>\n",
       "      <td>10249</td>\n",
       "      <td>July</td>\n",
       "      <td>1</td>\n",
       "      <td>11.61</td>\n",
       "    </tr>\n",
       "    <tr>\n",
       "      <th>2</th>\n",
       "      <td>10250</td>\n",
       "      <td>July</td>\n",
       "      <td>2</td>\n",
       "      <td>65.83</td>\n",
       "    </tr>\n",
       "    <tr>\n",
       "      <th>3</th>\n",
       "      <td>10251</td>\n",
       "      <td>July</td>\n",
       "      <td>1</td>\n",
       "      <td>41.34</td>\n",
       "    </tr>\n",
       "    <tr>\n",
       "      <th>4</th>\n",
       "      <td>10252</td>\n",
       "      <td>July</td>\n",
       "      <td>2</td>\n",
       "      <td>51.30</td>\n",
       "    </tr>\n",
       "  </tbody>\n",
       "</table>\n",
       "</div>"
      ],
      "text/plain": [
       "      Id ShippedDate ShipVia  Freight\n",
       "0  10248        July       3    32.38\n",
       "1  10249        July       1    11.61\n",
       "2  10250        July       2    65.83\n",
       "3  10251        July       1    41.34\n",
       "4  10252        July       2    51.30"
      ]
     },
     "execution_count": 59,
     "metadata": {},
     "output_type": "execute_result"
    }
   ],
   "source": [
    "freight.head()"
   ]
  },
  {
   "cell_type": "markdown",
   "metadata": {},
   "source": [
    "We converted the shipped dates to month names. Now let's do some exploratory analysis before heading into any statistical testing."
   ]
  },
  {
   "cell_type": "code",
   "execution_count": 60,
   "metadata": {},
   "outputs": [
    {
     "data": {
      "text/html": [
       "<div>\n",
       "<style scoped>\n",
       "    .dataframe tbody tr th:only-of-type {\n",
       "        vertical-align: middle;\n",
       "    }\n",
       "\n",
       "    .dataframe tbody tr th {\n",
       "        vertical-align: top;\n",
       "    }\n",
       "\n",
       "    .dataframe thead th {\n",
       "        text-align: right;\n",
       "    }\n",
       "</style>\n",
       "<table border=\"1\" class=\"dataframe\">\n",
       "  <thead>\n",
       "    <tr style=\"text-align: right;\">\n",
       "      <th></th>\n",
       "      <th>ShippedDate</th>\n",
       "      <th>Freight</th>\n",
       "    </tr>\n",
       "  </thead>\n",
       "  <tbody>\n",
       "    <tr>\n",
       "      <th>0</th>\n",
       "      <td>April</td>\n",
       "      <td>92.036250</td>\n",
       "    </tr>\n",
       "    <tr>\n",
       "      <th>1</th>\n",
       "      <td>August</td>\n",
       "      <td>84.486271</td>\n",
       "    </tr>\n",
       "    <tr>\n",
       "      <th>2</th>\n",
       "      <td>December</td>\n",
       "      <td>84.412609</td>\n",
       "    </tr>\n",
       "    <tr>\n",
       "      <th>3</th>\n",
       "      <td>February</td>\n",
       "      <td>84.929012</td>\n",
       "    </tr>\n",
       "    <tr>\n",
       "      <th>4</th>\n",
       "      <td>January</td>\n",
       "      <td>73.901000</td>\n",
       "    </tr>\n",
       "    <tr>\n",
       "      <th>5</th>\n",
       "      <td>July</td>\n",
       "      <td>55.250000</td>\n",
       "    </tr>\n",
       "    <tr>\n",
       "      <th>6</th>\n",
       "      <td>June</td>\n",
       "      <td>107.798667</td>\n",
       "    </tr>\n",
       "    <tr>\n",
       "      <th>7</th>\n",
       "      <td>March</td>\n",
       "      <td>64.728485</td>\n",
       "    </tr>\n",
       "    <tr>\n",
       "      <th>8</th>\n",
       "      <td>May</td>\n",
       "      <td>84.648958</td>\n",
       "    </tr>\n",
       "    <tr>\n",
       "      <th>9</th>\n",
       "      <td>November</td>\n",
       "      <td>67.645357</td>\n",
       "    </tr>\n",
       "    <tr>\n",
       "      <th>10</th>\n",
       "      <td>October</td>\n",
       "      <td>96.319091</td>\n",
       "    </tr>\n",
       "    <tr>\n",
       "      <th>11</th>\n",
       "      <td>September</td>\n",
       "      <td>60.022373</td>\n",
       "    </tr>\n",
       "  </tbody>\n",
       "</table>\n",
       "</div>"
      ],
      "text/plain": [
       "   ShippedDate     Freight\n",
       "0        April   92.036250\n",
       "1       August   84.486271\n",
       "2     December   84.412609\n",
       "3     February   84.929012\n",
       "4      January   73.901000\n",
       "5         July   55.250000\n",
       "6         June  107.798667\n",
       "7        March   64.728485\n",
       "8          May   84.648958\n",
       "9     November   67.645357\n",
       "10     October   96.319091\n",
       "11   September   60.022373"
      ]
     },
     "execution_count": 60,
     "metadata": {},
     "output_type": "execute_result"
    }
   ],
   "source": [
    "freight.groupby('ShippedDate', as_index=False)['Freight'].mean()"
   ]
  },
  {
   "cell_type": "code",
   "execution_count": 61,
   "metadata": {
    "scrolled": false
   },
   "outputs": [
    {
     "name": "stderr",
     "output_type": "stream",
     "text": [
      "/Users/Derek/anaconda3/lib/python3.7/site-packages/scipy/stats/stats.py:1713: FutureWarning: Using a non-tuple sequence for multidimensional indexing is deprecated; use `arr[tuple(seq)]` instead of `arr[seq]`. In the future this will be interpreted as an array index, `arr[np.array(seq)]`, which will result either in an error or a different result.\n",
      "  return np.add.reduce(sorted[indexer] * weights, axis=axis) / sumval\n"
     ]
    },
    {
     "data": {
      "image/png": "[encoded data removed]",
      "text/plain": [
       "<Figure size 1800x720 with 1 Axes>"
      ]
     },
     "metadata": {},
     "output_type": "display_data"
    }
   ],
   "source": [
    "plt.figure(figsize=(25,10))\n",
    "sns.barplot('ShippedDate', 'Freight', data=freight)\n",
    "sns.set_context(font_scale=.02)\n",
    "plt.title('Average Freight Cost By Month')\n",
    "plt.xlabel('Month')\n",
    "plt.ylabel('Average Freight Cost')\n",
    "plt.show()"
   ]
  },
  {
   "cell_type": "code",
   "execution_count": 62,
   "metadata": {
    "scrolled": true
   },
   "outputs": [
    {
     "data": {
      "text/plain": [
       "April        104\n",
       "March         99\n",
       "January       90\n",
       "February      81\n",
       "December      69\n",
       "October       66\n",
       "August        59\n",
       "September     59\n",
       "November      56\n",
       "July          48\n",
       "May           48\n",
       "June          30\n",
       "Name: ShippedDate, dtype: int64"
      ]
     },
     "execution_count": 62,
     "metadata": {},
     "output_type": "execute_result"
    }
   ],
   "source": [
    "freight['ShippedDate'].value_counts()"
   ]
  },
  {
   "cell_type": "code",
   "execution_count": 63,
   "metadata": {},
   "outputs": [
    {
     "data": {
      "text/plain": [
       "2    315\n",
       "3    249\n",
       "1    245\n",
       "Name: ShipVia, dtype: int64"
      ]
     },
     "execution_count": 63,
     "metadata": {},
     "output_type": "execute_result"
    }
   ],
   "source": [
    "freight['ShipVia'].value_counts()"
   ]
  },
  {
   "cell_type": "markdown",
   "metadata": {},
   "source": [
    "We can immediately see that freight costs in October and June are higher than the rest of the months while July, September, and March are the lowest. \n",
    "\n",
    "However, there is at least one major outlier within October, April, May, and June that's jacking up their averages. Let's delete those so we have a more accurate depiction of what each month's average freight cost is."
   ]
  },
  {
   "cell_type": "code",
   "execution_count": 64,
   "metadata": {
    "scrolled": true
   },
   "outputs": [
    {
     "data": {
      "text/html": [
       "<div>\n",
       "<style scoped>\n",
       "    .dataframe tbody tr th:only-of-type {\n",
       "        vertical-align: middle;\n",
       "    }\n",
       "\n",
       "    .dataframe tbody tr th {\n",
       "        vertical-align: top;\n",
       "    }\n",
       "\n",
       "    .dataframe thead th {\n",
       "        text-align: right;\n",
       "    }\n",
       "</style>\n",
       "<table border=\"1\" class=\"dataframe\">\n",
       "  <thead>\n",
       "    <tr style=\"text-align: right;\">\n",
       "      <th></th>\n",
       "      <th>Id</th>\n",
       "      <th>ShippedDate</th>\n",
       "      <th>ShipVia</th>\n",
       "      <th>Freight</th>\n",
       "    </tr>\n",
       "  </thead>\n",
       "  <tbody>\n",
       "    <tr>\n",
       "      <th>288</th>\n",
       "      <td>10536</td>\n",
       "      <td>June</td>\n",
       "      <td>2</td>\n",
       "      <td>58.88</td>\n",
       "    </tr>\n",
       "    <tr>\n",
       "      <th>292</th>\n",
       "      <td>10540</td>\n",
       "      <td>June</td>\n",
       "      <td>3</td>\n",
       "      <td>1007.64</td>\n",
       "    </tr>\n",
       "    <tr>\n",
       "      <th>297</th>\n",
       "      <td>10545</td>\n",
       "      <td>June</td>\n",
       "      <td>2</td>\n",
       "      <td>11.92</td>\n",
       "    </tr>\n",
       "    <tr>\n",
       "      <th>299</th>\n",
       "      <td>10547</td>\n",
       "      <td>June</td>\n",
       "      <td>2</td>\n",
       "      <td>178.43</td>\n",
       "    </tr>\n",
       "    <tr>\n",
       "      <th>300</th>\n",
       "      <td>10548</td>\n",
       "      <td>June</td>\n",
       "      <td>2</td>\n",
       "      <td>1.43</td>\n",
       "    </tr>\n",
       "  </tbody>\n",
       "</table>\n",
       "</div>"
      ],
      "text/plain": [
       "        Id ShippedDate ShipVia  Freight\n",
       "288  10536        June       2    58.88\n",
       "292  10540        June       3  1007.64\n",
       "297  10545        June       2    11.92\n",
       "299  10547        June       2   178.43\n",
       "300  10548        June       2     1.43"
      ]
     },
     "execution_count": 64,
     "metadata": {},
     "output_type": "execute_result"
    }
   ],
   "source": [
    "freight.loc[freight['ShippedDate'] == 'June'].head()"
   ]
  },
  {
   "cell_type": "markdown",
   "metadata": {},
   "source": [
    "Immediately we're able to see that the outlier is ID #10540, which had a freight cost of 1007.64. For the purposes of this analysis, let's remove the outlier."
   ]
  },
  {
   "cell_type": "code",
   "execution_count": 65,
   "metadata": {},
   "outputs": [],
   "source": [
    "freight = freight.drop(freight.index[292])"
   ]
  },
  {
   "cell_type": "code",
   "execution_count": 66,
   "metadata": {
    "scrolled": true
   },
   "outputs": [
    {
     "data": {
      "text/html": [
       "<div>\n",
       "<style scoped>\n",
       "    .dataframe tbody tr th:only-of-type {\n",
       "        vertical-align: middle;\n",
       "    }\n",
       "\n",
       "    .dataframe tbody tr th {\n",
       "        vertical-align: top;\n",
       "    }\n",
       "\n",
       "    .dataframe thead th {\n",
       "        text-align: right;\n",
       "    }\n",
       "</style>\n",
       "<table border=\"1\" class=\"dataframe\">\n",
       "  <thead>\n",
       "    <tr style=\"text-align: right;\">\n",
       "      <th></th>\n",
       "      <th>Id</th>\n",
       "      <th>ShippedDate</th>\n",
       "      <th>ShipVia</th>\n",
       "      <th>Freight</th>\n",
       "    </tr>\n",
       "  </thead>\n",
       "  <tbody>\n",
       "    <tr>\n",
       "      <th>227</th>\n",
       "      <td>10475</td>\n",
       "      <td>April</td>\n",
       "      <td>1</td>\n",
       "      <td>68.52</td>\n",
       "    </tr>\n",
       "    <tr>\n",
       "      <th>234</th>\n",
       "      <td>10482</td>\n",
       "      <td>April</td>\n",
       "      <td>3</td>\n",
       "      <td>7.48</td>\n",
       "    </tr>\n",
       "    <tr>\n",
       "      <th>235</th>\n",
       "      <td>10483</td>\n",
       "      <td>April</td>\n",
       "      <td>2</td>\n",
       "      <td>15.28</td>\n",
       "    </tr>\n",
       "    <tr>\n",
       "      <th>236</th>\n",
       "      <td>10484</td>\n",
       "      <td>April</td>\n",
       "      <td>3</td>\n",
       "      <td>6.88</td>\n",
       "    </tr>\n",
       "    <tr>\n",
       "      <th>238</th>\n",
       "      <td>10486</td>\n",
       "      <td>April</td>\n",
       "      <td>2</td>\n",
       "      <td>30.53</td>\n",
       "    </tr>\n",
       "  </tbody>\n",
       "</table>\n",
       "</div>"
      ],
      "text/plain": [
       "        Id ShippedDate ShipVia  Freight\n",
       "227  10475       April       1    68.52\n",
       "234  10482       April       3     7.48\n",
       "235  10483       April       2    15.28\n",
       "236  10484       April       3     6.88\n",
       "238  10486       April       2    30.53"
      ]
     },
     "execution_count": 66,
     "metadata": {},
     "output_type": "execute_result"
    }
   ],
   "source": [
    "freight.loc[freight['ShippedDate'] == 'April'].head()"
   ]
  },
  {
   "cell_type": "code",
   "execution_count": 67,
   "metadata": {},
   "outputs": [],
   "source": [
    "freight = freight.drop(freight.index[782])"
   ]
  },
  {
   "cell_type": "code",
   "execution_count": 68,
   "metadata": {
    "scrolled": true
   },
   "outputs": [
    {
     "data": {
      "text/html": [
       "<div>\n",
       "<style scoped>\n",
       "    .dataframe tbody tr th:only-of-type {\n",
       "        vertical-align: middle;\n",
       "    }\n",
       "\n",
       "    .dataframe tbody tr th {\n",
       "        vertical-align: top;\n",
       "    }\n",
       "\n",
       "    .dataframe thead th {\n",
       "        text-align: right;\n",
       "    }\n",
       "</style>\n",
       "<table border=\"1\" class=\"dataframe\">\n",
       "  <thead>\n",
       "    <tr style=\"text-align: right;\">\n",
       "      <th></th>\n",
       "      <th>Id</th>\n",
       "      <th>ShippedDate</th>\n",
       "      <th>ShipVia</th>\n",
       "      <th>Freight</th>\n",
       "    </tr>\n",
       "  </thead>\n",
       "  <tbody>\n",
       "    <tr>\n",
       "      <th>54</th>\n",
       "      <td>10302</td>\n",
       "      <td>October</td>\n",
       "      <td>2</td>\n",
       "      <td>6.27</td>\n",
       "    </tr>\n",
       "    <tr>\n",
       "      <th>57</th>\n",
       "      <td>10305</td>\n",
       "      <td>October</td>\n",
       "      <td>3</td>\n",
       "      <td>257.62</td>\n",
       "    </tr>\n",
       "    <tr>\n",
       "      <th>61</th>\n",
       "      <td>10309</td>\n",
       "      <td>October</td>\n",
       "      <td>1</td>\n",
       "      <td>47.30</td>\n",
       "    </tr>\n",
       "    <tr>\n",
       "      <th>64</th>\n",
       "      <td>10312</td>\n",
       "      <td>October</td>\n",
       "      <td>2</td>\n",
       "      <td>40.26</td>\n",
       "    </tr>\n",
       "    <tr>\n",
       "      <th>65</th>\n",
       "      <td>10313</td>\n",
       "      <td>October</td>\n",
       "      <td>2</td>\n",
       "      <td>1.96</td>\n",
       "    </tr>\n",
       "  </tbody>\n",
       "</table>\n",
       "</div>"
      ],
      "text/plain": [
       "       Id ShippedDate ShipVia  Freight\n",
       "54  10302     October       2     6.27\n",
       "57  10305     October       3   257.62\n",
       "61  10309     October       1    47.30\n",
       "64  10312     October       2    40.26\n",
       "65  10313     October       2     1.96"
      ]
     },
     "execution_count": 68,
     "metadata": {},
     "output_type": "execute_result"
    }
   ],
   "source": [
    "freight.loc[freight['ShippedDate'] == 'October'].head()"
   ]
  },
  {
   "cell_type": "code",
   "execution_count": 69,
   "metadata": {},
   "outputs": [],
   "source": [
    "freight = freight.drop(freight.index[443])"
   ]
  },
  {
   "cell_type": "code",
   "execution_count": 70,
   "metadata": {
    "scrolled": true
   },
   "outputs": [
    {
     "data": {
      "text/html": [
       "<div>\n",
       "<style scoped>\n",
       "    .dataframe tbody tr th:only-of-type {\n",
       "        vertical-align: middle;\n",
       "    }\n",
       "\n",
       "    .dataframe tbody tr th {\n",
       "        vertical-align: top;\n",
       "    }\n",
       "\n",
       "    .dataframe thead th {\n",
       "        text-align: right;\n",
       "    }\n",
       "</style>\n",
       "<table border=\"1\" class=\"dataframe\">\n",
       "  <thead>\n",
       "    <tr style=\"text-align: right;\">\n",
       "      <th></th>\n",
       "      <th>Id</th>\n",
       "      <th>ShippedDate</th>\n",
       "      <th>ShipVia</th>\n",
       "      <th>Freight</th>\n",
       "    </tr>\n",
       "  </thead>\n",
       "  <tbody>\n",
       "    <tr>\n",
       "      <th>258</th>\n",
       "      <td>10506</td>\n",
       "      <td>May</td>\n",
       "      <td>2</td>\n",
       "      <td>21.19</td>\n",
       "    </tr>\n",
       "    <tr>\n",
       "      <th>260</th>\n",
       "      <td>10508</td>\n",
       "      <td>May</td>\n",
       "      <td>2</td>\n",
       "      <td>4.99</td>\n",
       "    </tr>\n",
       "    <tr>\n",
       "      <th>266</th>\n",
       "      <td>10514</td>\n",
       "      <td>May</td>\n",
       "      <td>2</td>\n",
       "      <td>789.95</td>\n",
       "    </tr>\n",
       "    <tr>\n",
       "      <th>267</th>\n",
       "      <td>10515</td>\n",
       "      <td>May</td>\n",
       "      <td>1</td>\n",
       "      <td>204.47</td>\n",
       "    </tr>\n",
       "    <tr>\n",
       "      <th>268</th>\n",
       "      <td>10516</td>\n",
       "      <td>May</td>\n",
       "      <td>3</td>\n",
       "      <td>62.78</td>\n",
       "    </tr>\n",
       "  </tbody>\n",
       "</table>\n",
       "</div>"
      ],
      "text/plain": [
       "        Id ShippedDate ShipVia  Freight\n",
       "258  10506         May       2    21.19\n",
       "260  10508         May       2     4.99\n",
       "266  10514         May       2   789.95\n",
       "267  10515         May       1   204.47\n",
       "268  10516         May       3    62.78"
      ]
     },
     "execution_count": 70,
     "metadata": {},
     "output_type": "execute_result"
    }
   ],
   "source": [
    "freight.loc[freight['ShippedDate'] == 'May'].head()"
   ]
  },
  {
   "cell_type": "code",
   "execution_count": 71,
   "metadata": {},
   "outputs": [],
   "source": [
    "freight = freight.drop(freight.index[266])"
   ]
  },
  {
   "cell_type": "code",
   "execution_count": 72,
   "metadata": {},
   "outputs": [
    {
     "name": "stderr",
     "output_type": "stream",
     "text": [
      "/Users/Derek/anaconda3/lib/python3.7/site-packages/scipy/stats/stats.py:1713: FutureWarning: Using a non-tuple sequence for multidimensional indexing is deprecated; use `arr[tuple(seq)]` instead of `arr[seq]`. In the future this will be interpreted as an array index, `arr[np.array(seq)]`, which will result either in an error or a different result.\n",
      "  return np.add.reduce(sorted[indexer] * weights, axis=axis) / sumval\n"
     ]
    },
    {
     "data": {
      "image/png": "[encoded data removed]",
      "text/plain": [
       "<Figure size 1800x720 with 1 Axes>"
      ]
     },
     "metadata": {},
     "output_type": "display_data"
    }
   ],
   "source": [
    "plt.figure(figsize=(25,10))\n",
    "sns.barplot('ShippedDate', 'Freight', data=freight)\n",
    "sns.set_context(font_scale=.02)\n",
    "plt.title('Average Freight Cost By Month')\n",
    "plt.xlabel('Month')\n",
    "plt.ylabel('Average Freight Cost')\n",
    "plt.show()"
   ]
  },
  {
   "cell_type": "markdown",
   "metadata": {},
   "source": [
    "It's interesting that each season seems to be distinct in terms of how busy it is. Fall months (September-November) are moderately busy, the winter (December-February) is slightly busyier, and the early portion of spring (March and April) are the busiest time of the year. Meanwhile, the summer is the slowest period for shipping.\n"
   ]
  },
  {
   "cell_type": "markdown",
   "metadata": {},
   "source": [
    "## 2.3: ANOVA Testing"
   ]
  },
  {
   "cell_type": "code",
   "execution_count": 76,
   "metadata": {},
   "outputs": [
    {
     "name": "stdout",
     "output_type": "stream",
     "text": [
      "                      sum_sq     df         F    PR(>F)\n",
      "C(ShippedDate)  1.242716e+05   11.0  0.922147  0.518166\n",
      "Residual        9.715211e+06  793.0       NaN       NaN\n"
     ]
    }
   ],
   "source": [
    "results = ols('Freight ~ C(ShippedDate)', data=freight).fit()\n",
    "aov_table = sm.stats.anova_lm(results, typ=2)\n",
    "print(aov_table)"
   ]
  },
  {
   "cell_type": "markdown",
   "metadata": {},
   "source": [
    "## 2.4: Conclusion"
   ]
  },
  {
   "cell_type": "markdown",
   "metadata": {},
   "source": [
    "Our ANOVA testing shows a p-score of approximately .52, which means there is above a 50% chance that any difference in average freight price per month is due to chance. Therefore, we cannot reject our null hypothesis, which states that there is no difference between average monthly freight prices."
   ]
  },
  {
   "cell_type": "markdown",
   "metadata": {},
   "source": [
    "# 3: Is there a difference in unit price between supplier regions? "
   ]
  },
  {
   "cell_type": "markdown",
   "metadata": {},
   "source": [
    "**$H_O$: There is no difference in average unit price between supplier regions.**\n",
    "\n",
    "**$H_A$: There is at least one average unit price that is different amongst supplier regions.**"
   ]
  },
  {
   "cell_type": "markdown",
   "metadata": {},
   "source": [
    "## 3.1: Exploratory Data Analysis/Cleaning"
   ]
  },
  {
   "cell_type": "code",
   "execution_count": 77,
   "metadata": {},
   "outputs": [
    {
     "data": {
      "text/plain": [
       "<sqlite3.Cursor at 0x1c22186e30>"
      ]
     },
     "execution_count": 77,
     "metadata": {},
     "output_type": "execute_result"
    }
   ],
   "source": [
    "c.execute('''SELECT Region, UnitPrice,Product.ID,ProductName\n",
    "             FROM Supplier\n",
    "             JOIN Product\n",
    "             ON SupplierID;''')"
   ]
  },
  {
   "cell_type": "code",
   "execution_count": 78,
   "metadata": {},
   "outputs": [
    {
     "data": {
      "text/html": [
       "<div>\n",
       "<style scoped>\n",
       "    .dataframe tbody tr th:only-of-type {\n",
       "        vertical-align: middle;\n",
       "    }\n",
       "\n",
       "    .dataframe tbody tr th {\n",
       "        vertical-align: top;\n",
       "    }\n",
       "\n",
       "    .dataframe thead th {\n",
       "        text-align: right;\n",
       "    }\n",
       "</style>\n",
       "<table border=\"1\" class=\"dataframe\">\n",
       "  <thead>\n",
       "    <tr style=\"text-align: right;\">\n",
       "      <th></th>\n",
       "      <th>Region</th>\n",
       "      <th>UnitPrice</th>\n",
       "      <th>Id</th>\n",
       "      <th>ProductName</th>\n",
       "    </tr>\n",
       "  </thead>\n",
       "  <tbody>\n",
       "    <tr>\n",
       "      <th>0</th>\n",
       "      <td>British Isles</td>\n",
       "      <td>18.0</td>\n",
       "      <td>1</td>\n",
       "      <td>Chai</td>\n",
       "    </tr>\n",
       "    <tr>\n",
       "      <th>1</th>\n",
       "      <td>North America</td>\n",
       "      <td>18.0</td>\n",
       "      <td>1</td>\n",
       "      <td>Chai</td>\n",
       "    </tr>\n",
       "    <tr>\n",
       "      <th>2</th>\n",
       "      <td>North America</td>\n",
       "      <td>18.0</td>\n",
       "      <td>1</td>\n",
       "      <td>Chai</td>\n",
       "    </tr>\n",
       "    <tr>\n",
       "      <th>3</th>\n",
       "      <td>Eastern Asia</td>\n",
       "      <td>18.0</td>\n",
       "      <td>1</td>\n",
       "      <td>Chai</td>\n",
       "    </tr>\n",
       "    <tr>\n",
       "      <th>4</th>\n",
       "      <td>Southern Europe</td>\n",
       "      <td>18.0</td>\n",
       "      <td>1</td>\n",
       "      <td>Chai</td>\n",
       "    </tr>\n",
       "  </tbody>\n",
       "</table>\n",
       "</div>"
      ],
      "text/plain": [
       "            Region  UnitPrice  Id ProductName\n",
       "0    British Isles       18.0   1        Chai\n",
       "1    North America       18.0   1        Chai\n",
       "2    North America       18.0   1        Chai\n",
       "3     Eastern Asia       18.0   1        Chai\n",
       "4  Southern Europe       18.0   1        Chai"
      ]
     },
     "execution_count": 78,
     "metadata": {},
     "output_type": "execute_result"
    }
   ],
   "source": [
    "supplier = pd.DataFrame(c.fetchall())\n",
    "supplier.columns = [i[0] for i in c.description]\n",
    "supplier.head()"
   ]
  },
  {
   "cell_type": "code",
   "execution_count": 79,
   "metadata": {},
   "outputs": [],
   "source": [
    "supplier_grouped = supplier.groupby(supplier['ProductName'])"
   ]
  },
  {
   "cell_type": "code",
   "execution_count": 80,
   "metadata": {},
   "outputs": [
    {
     "data": {
      "text/plain": [
       "77"
      ]
     },
     "execution_count": 80,
     "metadata": {},
     "output_type": "execute_result"
    }
   ],
   "source": [
    "len(supplier['ProductName'].unique())"
   ]
  },
  {
   "cell_type": "code",
   "execution_count": 81,
   "metadata": {},
   "outputs": [
    {
     "data": {
      "text/plain": [
       "ProductName                Region         \n",
       "Alice Mutton               British Isles      39.00\n",
       "                           Eastern Asia       39.00\n",
       "                           NSW                39.00\n",
       "                           North America      39.00\n",
       "                           Northern Europe    39.00\n",
       "                           Scandinavia        39.00\n",
       "                           South America      39.00\n",
       "                           South-East Asia    39.00\n",
       "                           Southern Europe    39.00\n",
       "                           Victoria           39.00\n",
       "                           Western Europe     39.00\n",
       "Aniseed Syrup              British Isles      10.00\n",
       "                           Eastern Asia       10.00\n",
       "                           NSW                10.00\n",
       "                           North America      10.00\n",
       "                           Northern Europe    10.00\n",
       "                           Scandinavia        10.00\n",
       "                           South America      10.00\n",
       "                           South-East Asia    10.00\n",
       "                           Southern Europe    10.00\n",
       "                           Victoria           10.00\n",
       "                           Western Europe     10.00\n",
       "Boston Crab Meat           British Isles      18.40\n",
       "                           Eastern Asia       18.40\n",
       "                           NSW                18.40\n",
       "                           North America      18.40\n",
       "                           Northern Europe    18.40\n",
       "                           Scandinavia        18.40\n",
       "                           South America      18.40\n",
       "                           South-East Asia    18.40\n",
       "                                              ...  \n",
       "Vegie-spread               North America      43.90\n",
       "                           Northern Europe    43.90\n",
       "                           Scandinavia        43.90\n",
       "                           South America      43.90\n",
       "                           South-East Asia    43.90\n",
       "                           Southern Europe    43.90\n",
       "                           Victoria           43.90\n",
       "                           Western Europe     43.90\n",
       "Wimmers gute Semmelknödel  British Isles      33.25\n",
       "                           Eastern Asia       33.25\n",
       "                           NSW                33.25\n",
       "                           North America      33.25\n",
       "                           Northern Europe    33.25\n",
       "                           Scandinavia        33.25\n",
       "                           South America      33.25\n",
       "                           South-East Asia    33.25\n",
       "                           Southern Europe    33.25\n",
       "                           Victoria           33.25\n",
       "                           Western Europe     33.25\n",
       "Zaanse koeken              British Isles       9.50\n",
       "                           Eastern Asia        9.50\n",
       "                           NSW                 9.50\n",
       "                           North America       9.50\n",
       "                           Northern Europe     9.50\n",
       "                           Scandinavia         9.50\n",
       "                           South America       9.50\n",
       "                           South-East Asia     9.50\n",
       "                           Southern Europe     9.50\n",
       "                           Victoria            9.50\n",
       "                           Western Europe      9.50\n",
       "Name: UnitPrice, Length: 847, dtype: float64"
      ]
     },
     "execution_count": 81,
     "metadata": {},
     "output_type": "execute_result"
    }
   ],
   "source": [
    "supplier.groupby(['ProductName','Region'])['UnitPrice'].mean()"
   ]
  },
  {
   "cell_type": "markdown",
   "metadata": {},
   "source": [
    "Based off a quick look of our dataframe, it seems that product unit costs are the same across all countries. Perhaps some incredible trade deal was struck where all regions agreed to sell products at the same costs! Just to be sure, let's perform an ANOVA test on it. "
   ]
  },
  {
   "cell_type": "markdown",
   "metadata": {},
   "source": [
    "## 3.2: ANOVA Testing"
   ]
  },
  {
   "cell_type": "code",
   "execution_count": null,
   "metadata": {
    "scrolled": true
   },
   "outputs": [],
   "source": [
    "results = ols('UnitPrice ~ C(Region)', data=supplier).fit()\n",
    "aov_table = sm.stats.anova_lm(results, typ=2)\n",
    "print(aov_table)"
   ]
  },
  {
   "cell_type": "markdown",
   "metadata": {},
   "source": [
    "## 3.3: Conclusion"
   ]
  },
  {
   "cell_type": "markdown",
   "metadata": {},
   "source": [
    "As we can see, our p-value is 1, which indicates that it is NOT statistically significant. Therefore, we cannot reject the null hypothesis stating that there is no difference in product unit price between supplier regions."
   ]
  },
  {
   "cell_type": "markdown",
   "metadata": {},
   "source": [
    "# 4: Is there a difference in shipping company performance? "
   ]
  },
  {
   "cell_type": "markdown",
   "metadata": {},
   "source": [
    "**$H_O$: There is no difference in how quickly shipping companies ship order.**\n",
    "\n",
    "**$H_A$: Shipping companies ship orders at different speeds.**"
   ]
  },
  {
   "cell_type": "markdown",
   "metadata": {},
   "source": [
    "## 4.1: Exploratory Data Analysis & Cleaning"
   ]
  },
  {
   "cell_type": "code",
   "execution_count": 82,
   "metadata": {},
   "outputs": [
    {
     "data": {
      "text/html": [
       "<div>\n",
       "<style scoped>\n",
       "    .dataframe tbody tr th:only-of-type {\n",
       "        vertical-align: middle;\n",
       "    }\n",
       "\n",
       "    .dataframe tbody tr th {\n",
       "        vertical-align: top;\n",
       "    }\n",
       "\n",
       "    .dataframe thead th {\n",
       "        text-align: right;\n",
       "    }\n",
       "</style>\n",
       "<table border=\"1\" class=\"dataframe\">\n",
       "  <thead>\n",
       "    <tr style=\"text-align: right;\">\n",
       "      <th></th>\n",
       "      <th>CompanyName</th>\n",
       "      <th>OrderDate</th>\n",
       "      <th>RequiredDate</th>\n",
       "      <th>ShippedDate</th>\n",
       "      <th>ShipRegion</th>\n",
       "      <th>Id</th>\n",
       "    </tr>\n",
       "  </thead>\n",
       "  <tbody>\n",
       "    <tr>\n",
       "      <th>0</th>\n",
       "      <td>Federal Shipping</td>\n",
       "      <td>2012-07-04</td>\n",
       "      <td>2012-08-01</td>\n",
       "      <td>2012-07-16</td>\n",
       "      <td>Western Europe</td>\n",
       "      <td>10248</td>\n",
       "    </tr>\n",
       "    <tr>\n",
       "      <th>1</th>\n",
       "      <td>Speedy Express</td>\n",
       "      <td>2012-07-05</td>\n",
       "      <td>2012-08-16</td>\n",
       "      <td>2012-07-10</td>\n",
       "      <td>Western Europe</td>\n",
       "      <td>10249</td>\n",
       "    </tr>\n",
       "    <tr>\n",
       "      <th>2</th>\n",
       "      <td>United Package</td>\n",
       "      <td>2012-07-08</td>\n",
       "      <td>2012-08-05</td>\n",
       "      <td>2012-07-12</td>\n",
       "      <td>South America</td>\n",
       "      <td>10250</td>\n",
       "    </tr>\n",
       "    <tr>\n",
       "      <th>3</th>\n",
       "      <td>Speedy Express</td>\n",
       "      <td>2012-07-08</td>\n",
       "      <td>2012-08-05</td>\n",
       "      <td>2012-07-15</td>\n",
       "      <td>Western Europe</td>\n",
       "      <td>10251</td>\n",
       "    </tr>\n",
       "    <tr>\n",
       "      <th>4</th>\n",
       "      <td>United Package</td>\n",
       "      <td>2012-07-09</td>\n",
       "      <td>2012-08-06</td>\n",
       "      <td>2012-07-11</td>\n",
       "      <td>Western Europe</td>\n",
       "      <td>10252</td>\n",
       "    </tr>\n",
       "  </tbody>\n",
       "</table>\n",
       "</div>"
      ],
      "text/plain": [
       "        CompanyName   OrderDate RequiredDate ShippedDate      ShipRegion  \\\n",
       "0  Federal Shipping  2012-07-04   2012-08-01  2012-07-16  Western Europe   \n",
       "1    Speedy Express  2012-07-05   2012-08-16  2012-07-10  Western Europe   \n",
       "2    United Package  2012-07-08   2012-08-05  2012-07-12   South America   \n",
       "3    Speedy Express  2012-07-08   2012-08-05  2012-07-15  Western Europe   \n",
       "4    United Package  2012-07-09   2012-08-06  2012-07-11  Western Europe   \n",
       "\n",
       "      Id  \n",
       "0  10248  \n",
       "1  10249  \n",
       "2  10250  \n",
       "3  10251  \n",
       "4  10252  "
      ]
     },
     "execution_count": 82,
     "metadata": {},
     "output_type": "execute_result"
    }
   ],
   "source": [
    "c.execute('''SELECT CompanyName, OrderDate, RequiredDate, ShippedDate, ShipRegion, \"Order\".ID\n",
    "             FROM Shipper\n",
    "             JOIN \"Order\"\n",
    "             ON Shipper.ID = ShipVia;''')\n",
    "shipping = pd.DataFrame(c.fetchall())\n",
    "shipping.columns = [i[0] for i in c.description]\n",
    "shipping.head()"
   ]
  },
  {
   "cell_type": "code",
   "execution_count": 83,
   "metadata": {},
   "outputs": [
    {
     "name": "stdout",
     "output_type": "stream",
     "text": [
      "<class 'pandas.core.frame.DataFrame'>\n",
      "RangeIndex: 830 entries, 0 to 829\n",
      "Data columns (total 6 columns):\n",
      "CompanyName     830 non-null object\n",
      "OrderDate       830 non-null object\n",
      "RequiredDate    830 non-null object\n",
      "ShippedDate     809 non-null object\n",
      "ShipRegion      830 non-null object\n",
      "Id              830 non-null int64\n",
      "dtypes: int64(1), object(5)\n",
      "memory usage: 39.0+ KB\n"
     ]
    }
   ],
   "source": [
    "shipping.info()"
   ]
  },
  {
   "cell_type": "code",
   "execution_count": 99,
   "metadata": {},
   "outputs": [],
   "source": [
    "shipping['RequiredDate'] = pd.to_datetime(shipping['RequiredDate'])\n",
    "shipping['OrderDate'] = pd.to_datetime(shipping['OrderDate'])"
   ]
  },
  {
   "cell_type": "code",
   "execution_count": 100,
   "metadata": {},
   "outputs": [
    {
     "name": "stdout",
     "output_type": "stream",
     "text": [
      "<class 'pandas.core.frame.DataFrame'>\n",
      "RangeIndex: 830 entries, 0 to 829\n",
      "Data columns (total 7 columns):\n",
      "CompanyName     830 non-null object\n",
      "OrderDate       830 non-null datetime64[ns]\n",
      "RequiredDate    830 non-null datetime64[ns]\n",
      "ShippedDate     809 non-null object\n",
      "ShipRegion      830 non-null object\n",
      "Id              830 non-null int64\n",
      "DeliveryDays    830 non-null int64\n",
      "dtypes: datetime64[ns](2), int64(2), object(3)\n",
      "memory usage: 45.5+ KB\n"
     ]
    }
   ],
   "source": [
    "shipping.info()"
   ]
  },
  {
   "cell_type": "code",
   "execution_count": 106,
   "metadata": {},
   "outputs": [],
   "source": [
    "shipping['DeliveryDays'] = shipping['RequiredDate'] - shipping['OrderDate']"
   ]
  },
  {
   "cell_type": "code",
   "execution_count": 107,
   "metadata": {},
   "outputs": [
    {
     "data": {
      "text/html": [
       "<div>\n",
       "<style scoped>\n",
       "    .dataframe tbody tr th:only-of-type {\n",
       "        vertical-align: middle;\n",
       "    }\n",
       "\n",
       "    .dataframe tbody tr th {\n",
       "        vertical-align: top;\n",
       "    }\n",
       "\n",
       "    .dataframe thead th {\n",
       "        text-align: right;\n",
       "    }\n",
       "</style>\n",
       "<table border=\"1\" class=\"dataframe\">\n",
       "  <thead>\n",
       "    <tr style=\"text-align: right;\">\n",
       "      <th></th>\n",
       "      <th>CompanyName</th>\n",
       "      <th>OrderDate</th>\n",
       "      <th>RequiredDate</th>\n",
       "      <th>ShippedDate</th>\n",
       "      <th>ShipRegion</th>\n",
       "      <th>Id</th>\n",
       "      <th>DeliveryDays</th>\n",
       "    </tr>\n",
       "  </thead>\n",
       "  <tbody>\n",
       "    <tr>\n",
       "      <th>0</th>\n",
       "      <td>Federal Shipping</td>\n",
       "      <td>2012-07-04</td>\n",
       "      <td>2012-08-01</td>\n",
       "      <td>2012-07-16</td>\n",
       "      <td>Western Europe</td>\n",
       "      <td>10248</td>\n",
       "      <td>28 days</td>\n",
       "    </tr>\n",
       "    <tr>\n",
       "      <th>1</th>\n",
       "      <td>Speedy Express</td>\n",
       "      <td>2012-07-05</td>\n",
       "      <td>2012-08-16</td>\n",
       "      <td>2012-07-10</td>\n",
       "      <td>Western Europe</td>\n",
       "      <td>10249</td>\n",
       "      <td>42 days</td>\n",
       "    </tr>\n",
       "    <tr>\n",
       "      <th>2</th>\n",
       "      <td>United Package</td>\n",
       "      <td>2012-07-08</td>\n",
       "      <td>2012-08-05</td>\n",
       "      <td>2012-07-12</td>\n",
       "      <td>South America</td>\n",
       "      <td>10250</td>\n",
       "      <td>28 days</td>\n",
       "    </tr>\n",
       "    <tr>\n",
       "      <th>3</th>\n",
       "      <td>Speedy Express</td>\n",
       "      <td>2012-07-08</td>\n",
       "      <td>2012-08-05</td>\n",
       "      <td>2012-07-15</td>\n",
       "      <td>Western Europe</td>\n",
       "      <td>10251</td>\n",
       "      <td>28 days</td>\n",
       "    </tr>\n",
       "    <tr>\n",
       "      <th>4</th>\n",
       "      <td>United Package</td>\n",
       "      <td>2012-07-09</td>\n",
       "      <td>2012-08-06</td>\n",
       "      <td>2012-07-11</td>\n",
       "      <td>Western Europe</td>\n",
       "      <td>10252</td>\n",
       "      <td>28 days</td>\n",
       "    </tr>\n",
       "  </tbody>\n",
       "</table>\n",
       "</div>"
      ],
      "text/plain": [
       "        CompanyName  OrderDate RequiredDate ShippedDate      ShipRegion  \\\n",
       "0  Federal Shipping 2012-07-04   2012-08-01  2012-07-16  Western Europe   \n",
       "1    Speedy Express 2012-07-05   2012-08-16  2012-07-10  Western Europe   \n",
       "2    United Package 2012-07-08   2012-08-05  2012-07-12   South America   \n",
       "3    Speedy Express 2012-07-08   2012-08-05  2012-07-15  Western Europe   \n",
       "4    United Package 2012-07-09   2012-08-06  2012-07-11  Western Europe   \n",
       "\n",
       "      Id DeliveryDays  \n",
       "0  10248      28 days  \n",
       "1  10249      42 days  \n",
       "2  10250      28 days  \n",
       "3  10251      28 days  \n",
       "4  10252      28 days  "
      ]
     },
     "execution_count": 107,
     "metadata": {},
     "output_type": "execute_result"
    }
   ],
   "source": [
    "shipping.head()"
   ]
  },
  {
   "cell_type": "code",
   "execution_count": 108,
   "metadata": {
    "scrolled": true
   },
   "outputs": [
    {
     "name": "stdout",
     "output_type": "stream",
     "text": [
      "<class 'pandas.core.frame.DataFrame'>\n",
      "RangeIndex: 830 entries, 0 to 829\n",
      "Data columns (total 7 columns):\n",
      "CompanyName     830 non-null object\n",
      "OrderDate       830 non-null datetime64[ns]\n",
      "RequiredDate    830 non-null datetime64[ns]\n",
      "ShippedDate     809 non-null object\n",
      "ShipRegion      830 non-null object\n",
      "Id              830 non-null int64\n",
      "DeliveryDays    830 non-null timedelta64[ns]\n",
      "dtypes: datetime64[ns](2), int64(1), object(3), timedelta64[ns](1)\n",
      "memory usage: 45.5+ KB\n"
     ]
    }
   ],
   "source": [
    "shipping.info()"
   ]
  },
  {
   "cell_type": "code",
   "execution_count": 109,
   "metadata": {},
   "outputs": [],
   "source": [
    "shipping['DeliveryDays'] = shipping['DeliveryDays'].dt.days"
   ]
  },
  {
   "cell_type": "code",
   "execution_count": 111,
   "metadata": {},
   "outputs": [
    {
     "data": {
      "text/html": [
       "<div>\n",
       "<style scoped>\n",
       "    .dataframe tbody tr th:only-of-type {\n",
       "        vertical-align: middle;\n",
       "    }\n",
       "\n",
       "    .dataframe tbody tr th {\n",
       "        vertical-align: top;\n",
       "    }\n",
       "\n",
       "    .dataframe thead th {\n",
       "        text-align: right;\n",
       "    }\n",
       "</style>\n",
       "<table border=\"1\" class=\"dataframe\">\n",
       "  <thead>\n",
       "    <tr style=\"text-align: right;\">\n",
       "      <th></th>\n",
       "      <th>CompanyName</th>\n",
       "      <th>OrderDate</th>\n",
       "      <th>RequiredDate</th>\n",
       "      <th>ShippedDate</th>\n",
       "      <th>ShipRegion</th>\n",
       "      <th>Id</th>\n",
       "      <th>DeliveryDays</th>\n",
       "    </tr>\n",
       "  </thead>\n",
       "  <tbody>\n",
       "    <tr>\n",
       "      <th>0</th>\n",
       "      <td>Federal Shipping</td>\n",
       "      <td>2012-07-04</td>\n",
       "      <td>2012-08-01</td>\n",
       "      <td>2012-07-16</td>\n",
       "      <td>Western Europe</td>\n",
       "      <td>10248</td>\n",
       "      <td>28</td>\n",
       "    </tr>\n",
       "    <tr>\n",
       "      <th>1</th>\n",
       "      <td>Speedy Express</td>\n",
       "      <td>2012-07-05</td>\n",
       "      <td>2012-08-16</td>\n",
       "      <td>2012-07-10</td>\n",
       "      <td>Western Europe</td>\n",
       "      <td>10249</td>\n",
       "      <td>42</td>\n",
       "    </tr>\n",
       "    <tr>\n",
       "      <th>2</th>\n",
       "      <td>United Package</td>\n",
       "      <td>2012-07-08</td>\n",
       "      <td>2012-08-05</td>\n",
       "      <td>2012-07-12</td>\n",
       "      <td>South America</td>\n",
       "      <td>10250</td>\n",
       "      <td>28</td>\n",
       "    </tr>\n",
       "    <tr>\n",
       "      <th>3</th>\n",
       "      <td>Speedy Express</td>\n",
       "      <td>2012-07-08</td>\n",
       "      <td>2012-08-05</td>\n",
       "      <td>2012-07-15</td>\n",
       "      <td>Western Europe</td>\n",
       "      <td>10251</td>\n",
       "      <td>28</td>\n",
       "    </tr>\n",
       "    <tr>\n",
       "      <th>4</th>\n",
       "      <td>United Package</td>\n",
       "      <td>2012-07-09</td>\n",
       "      <td>2012-08-06</td>\n",
       "      <td>2012-07-11</td>\n",
       "      <td>Western Europe</td>\n",
       "      <td>10252</td>\n",
       "      <td>28</td>\n",
       "    </tr>\n",
       "  </tbody>\n",
       "</table>\n",
       "</div>"
      ],
      "text/plain": [
       "        CompanyName  OrderDate RequiredDate ShippedDate      ShipRegion  \\\n",
       "0  Federal Shipping 2012-07-04   2012-08-01  2012-07-16  Western Europe   \n",
       "1    Speedy Express 2012-07-05   2012-08-16  2012-07-10  Western Europe   \n",
       "2    United Package 2012-07-08   2012-08-05  2012-07-12   South America   \n",
       "3    Speedy Express 2012-07-08   2012-08-05  2012-07-15  Western Europe   \n",
       "4    United Package 2012-07-09   2012-08-06  2012-07-11  Western Europe   \n",
       "\n",
       "      Id  DeliveryDays  \n",
       "0  10248            28  \n",
       "1  10249            42  \n",
       "2  10250            28  \n",
       "3  10251            28  \n",
       "4  10252            28  "
      ]
     },
     "execution_count": 111,
     "metadata": {},
     "output_type": "execute_result"
    }
   ],
   "source": [
    "shipping.head()"
   ]
  },
  {
   "cell_type": "code",
   "execution_count": 117,
   "metadata": {},
   "outputs": [
    {
     "data": {
      "text/plain": [
       "CompanyName       ShipRegion     \n",
       "Federal Shipping  British Isles      27.000000\n",
       "                  Central America    26.000000\n",
       "                  Eastern Europe     24.500000\n",
       "                  North America      28.000000\n",
       "                  Northern Europe    26.133333\n",
       "                  Scandinavia        28.000000\n",
       "                  South America      27.176471\n",
       "                  Southern Europe    28.000000\n",
       "                  Western Europe     28.000000\n",
       "Speedy Express    British Isles      28.000000\n",
       "                  Central America    28.000000\n",
       "                  Eastern Europe     28.000000\n",
       "                  North America      28.800000\n",
       "                  Northern Europe    29.400000\n",
       "                  Scandinavia        29.555556\n",
       "                  South America      28.264151\n",
       "                  Southern Europe    26.880000\n",
       "                  Western Europe     27.517241\n",
       "United Package    British Isles      27.562500\n",
       "                  Central America    26.600000\n",
       "                  Eastern Europe     21.000000\n",
       "                  North America      28.918033\n",
       "                  Northern Europe    26.600000\n",
       "                  Scandinavia        28.000000\n",
       "                  South America      28.241379\n",
       "                  Southern Europe    28.666667\n",
       "                  Western Europe     28.000000\n",
       "Name: DeliveryDays, dtype: float64"
      ]
     },
     "execution_count": 117,
     "metadata": {},
     "output_type": "execute_result"
    }
   ],
   "source": [
    "shipping.groupby(['CompanyName', 'ShipRegion'])['DeliveryDays'].mean()"
   ]
  },
  {
   "cell_type": "markdown",
   "metadata": {},
   "source": [
    "Based off our analysis in the dateframe, it doesn't seem as if overall delivery time changes very much between shipping companies."
   ]
  },
  {
   "cell_type": "markdown",
   "metadata": {},
   "source": [
    "## 4.2: ANOVA Test"
   ]
  },
  {
   "cell_type": "code",
   "execution_count": 118,
   "metadata": {
    "scrolled": true
   },
   "outputs": [
    {
     "name": "stdout",
     "output_type": "stream",
     "text": [
      "                      sum_sq     df         F    PR(>F)\n",
      "C(CompanyName)     52.076115    2.0  0.853813  0.426163\n",
      "Residual        25220.352801  827.0       NaN       NaN\n"
     ]
    }
   ],
   "source": [
    "results = ols('DeliveryDays ~ C(CompanyName)', data=shipping).fit()\n",
    "aov_table = sm.stats.anova_lm(results, typ=2)\n",
    "print(aov_table)"
   ]
  },
  {
   "cell_type": "code",
   "execution_count": 120,
   "metadata": {},
   "outputs": [
    {
     "data": {
      "text/plain": [
       "Western Europe     276\n",
       "North America      152\n",
       "South America      145\n",
       "British Isles       75\n",
       "Southern Europe     64\n",
       "Northern Europe     55\n",
       "Scandinavia         28\n",
       "Central America     28\n",
       "Eastern Europe       7\n",
       "Name: ShipRegion, dtype: int64"
      ]
     },
     "execution_count": 120,
     "metadata": {},
     "output_type": "execute_result"
    }
   ],
   "source": [
    "shipping['ShipRegion'].value_counts()"
   ]
  },
  {
   "cell_type": "markdown",
   "metadata": {},
   "source": [
    "## 4.3: Conclusions"
   ]
  },
  {
   "cell_type": "markdown",
   "metadata": {},
   "source": [
    "As expected from our initial analysis, the ANOVA test came back with a p-value of .42, indicating that there is no difference between shipping company's performance. Although there is a significant difference for Eastern Europe, the sample size is too small to garner any significance."
   ]
  }
 ],
 "metadata": {
  "kernelspec": {
   "display_name": "learn-env",
   "language": "python",
   "name": "learn-env"
  },
  "language_info": {
   "codemirror_mode": {
    "name": "ipython",
    "version": 3
   },
   "file_extension": ".py",
   "mimetype": "text/x-python",
   "name": "python",
   "nbconvert_exporter": "python",
   "pygments_lexer": "ipython3",
   "version": "3.7.0"
  }
 },
 "nbformat": 4,
 "nbformat_minor": 2
}
